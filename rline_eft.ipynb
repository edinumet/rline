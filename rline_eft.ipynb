{
 "cells": [
  {
   "cell_type": "markdown",
   "metadata": {},
   "source": [
    "<img style=\"float: left;\" src=\"images/EP_Logo.png\" alt=\"UoE\" width=\"300px\"/>\n",
    "<img style=\"float: right;\" src=\"images/UoE_Logo.png\" alt=\"UoE\" width=\"300px\"/>\n",
    "<img style=\"float: center;\" src=\"images/urban_rural_scape.png\" alt=\"urban\" width=\"1100px\"/>"
   ]
  },
  {
   "cell_type": "markdown",
   "metadata": {},
   "source": [
    "# Modelling emissions from road traffic\n",
    "<img style=\"float: right;\" src=\"images/car-exhaust.png\" alt=\"smoky car\" width=\"240px\"/></p>\n",
    " \n",
    "Jupyter notebook for ECSC09005 Environmental Pollution  \n",
    "author: John Moncrieff *for* Session 2020-21  [version 0.14, latest 11:06, 1 Feb 2021]\n",
    "## Background\n",
    "Modelling polutant dispersal from fixed point and area sources by the gaussian plume model is obvious but how do we model vehicle emissions from traffic flowing along a road? We just adapt the gaussian plume model by effectively replicating point sources along the roadway and running individual gaussian plume models at each of these points. This is known as a line source model. In this exercise, we will use a line source model called *RLine* from  the US Environmnental Protection Agency. This model has been well used for many years and is used for all sorts of regulatory purposes in the USA. You can read more about RLine at the US EPA's web site - https://www.cmascenter.org/r-line/. You used the UK's DMRB screening model to look at traffic emissions; RLINE is a step up in complexity and realism.\n",
    "\n",
    "What I want you to get out of RLine is an appreciation for how emissions from the vehicle fleet is influenced by wind speed, atmospheric stability and wind direction and how that dictates local air quality.\n",
    "\n",
    "## Imports\n",
    "Let's start by importing some libraries to the environment:\n",
    "- *matplotlib inline* for creating inline plots\n",
    "- *pandas* to order and sort data in a convenient Table-like format\n",
    "- *numpy* for numerical routines\n",
    "- *matplotlib* for plotting data\n",
    "- *scipy* for interploation routines\n",
    "- *tqdm* for timing progress bar \n",
    "- *subprocess* so we can run RLine which is written in FORTRAN\n",
    "- *ipywidgets* for interactivity\n",
    "- *defins* for python code that just takes up space in the main notebook"
   ]
  },
  {
   "cell_type": "code",
   "execution_count": 1,
   "metadata": {},
   "outputs": [
    {
     "name": "stdout",
     "output_type": "stream",
     "text": [
      "Imports loaded - continue\n"
     ]
    }
   ],
   "source": [
    "%matplotlib inline\n",
    "import pandas as pd\n",
    "import numpy as np\n",
    "import matplotlib.pyplot as plt\n",
    "from scipy.interpolate import griddata\n",
    "import matplotlib.gridspec as gridspec\n",
    "import sys\n",
    "import math\n",
    "import tqdm as tqdm\n",
    "import subprocess\n",
    "import os\n",
    "from ipywidgets import interact, interactive, fixed, interact_manual\n",
    "import ipywidgets as widgets\n",
    "from IPython.display import display\n",
    "from ipywidgets import HBox, Label\n",
    "from src import efbvt, pls\n",
    "print('Imports loaded - continue')"
   ]
  },
  {
   "cell_type": "markdown",
   "metadata": {},
   "source": [
    "## Step 1: Get the emissions inventory"
   ]
  },
  {
   "cell_type": "markdown",
   "metadata": {},
   "source": [
    "As we discussed in the lecture series, we need 3 pieces of information to perform a dispersion modelling exercise: weather conditions, an emissions inventory and a dispersion model. <img style=\"float: right;\" src=\"images/dm.png\" alt=\"dispersion model process\" width=\"450px\"/></p>In this exercise, we'll just assume 4 different atmospheric stabilities and use a dispersion model called RLINE which models emissions from traffic. The emissions inventory we will use is derived from vehicle tests under different traffic scenarios and on different road types. It can get a bit complicated to come up with vehicle emissions that are then fed into the dispersion model. <br/><br/>We use a methodology which has been well-documented. I'll give you a flavour of what is involved but the detail can be a bit overwhelming - quite often users in the UK use an Excel-based system called the 'Emissions Factor Toolkit' but we've found that this no longer seems to be compatible with macs in particular so I've coded it up into python for this exercise (my python code is imported here but if you want to view it, its in the file you downloaded from GitHub)."
   ]
  },
  {
   "cell_type": "markdown",
   "metadata": {},
   "source": [
    "The total emission factors ($EF_i$) and traffic activity ($A_i$) inputs are combined to create hourly emissions, ($E_i$) for each roadlink ($i$) in the area we are modelling.\n",
    "$E_i = EF_i \\ A_i$  \n",
    "> where:    \n",
    "$E F_i = \\sum_{vehclass} ef_i (pollutant, speed, month, temp) \\ fleetmix(vehclass)$ <br/><br/>\n",
    "$A_i = AADT_i \\ TAF_i (hour, day, month)$  \n",
    "\n",
    "\n",
    "The concentration ($C$) at any location is given by $C = \\sum_i E_i \\ X_i$ where $X_i$ is the dispersion from each road link, $i$ to each receptor generated by RLINE with unit emission rate. $AADT_i$ is the annual average daily traffic; $TAF_i$ is the traffic affected flow ie congestion. "
   ]
  },
  {
   "cell_type": "markdown",
   "metadata": {},
   "source": [
    "COPERT calculations\n",
    "\n",
    "Sources of data:\n",
    "Speed-related emissions of eg NOx and PM: https://naei.beis.gov.uk/data/ef-transport\n",
    "refers to COPERT calculations which in turn give a generic equation to calculate speed dependent ‘hot’ emission factors in g/km  (Equation 25 in “1.A.3.b-iv Road transport Oct. 2020.pdf”\n",
    "        EF=(AlphaxV2 +BetaxV+Gamma+Delta/V)/(EpsilonxV2 +ZetaxV+Eta)x(1-RF) \n",
    "where the Alphas, Betas etc are given in an accompanying spreadsheet for MANY vehicle types \n",
    "see “1.A.3.b.i-iv Road Transport Appendix 4 Emission Factors_2020Sept.xlsx”\n",
    "\n",
    "$EF = \\Large \\frac{(\\alpha v^2 + \\beta v + \\gamma + \\delta /v)}{(\\epsilon v^2 + \\zeta v + \\eta)} \\large (1-RF)$"
   ]
  },
  {
   "cell_type": "markdown",
   "metadata": {},
   "source": [
    "<details>  \n",
    "<summary markdown=\"span\">Example vehicle data, click to expand</summary>\n",
    "    \n",
    "<div class=\"alert alert-block alert-info\">\n",
    "    \n",
    "|    Category    |  Fuel  |       Segment       | Euro Standard | Technology |  Pollutant |      Mode      | Min Speed [km/h] | Max Speed [km/h] |    Alpha   |    Beta    |    Gamma   |    Delta   |   Epsilon  |    Zita    |     Hta    | Reduction Factor [%] | Bio Reduction Factor [%] | 15 | EF [g/km] or ECF [MJ/km] |\n",
    "|:--------------:|:------:|:-------------------:|:-------------:|:----------:|:----------:|:--------------:|:----------------:|:----------------:|:----------:|:----------:|:----------:|:----------:|:----------:|:----------:|:----------:|:--------------------:|:------------------------:|:--:|:------------------------:|\n",
    "| Passenger Cars | Petrol | Large-SUV-Executive | Euro 4        | GDI        | PM Exhaust | Urban Peak     | 10               | 130              | 0          | 0          | 0.00128    | 0          | 0          | 0          | 1          | 0                    | 0                        | 15 | 0.00128                  |\n",
    "| Passenger Cars | Petrol | Large-SUV-Executive | Euro 4        | GDI        | PM Exhaust | Urban Off Peak | 10               | 130              | 0          | 0          | 0.00128    | 0          | 0          | 0          | 1          | 0                    | 0                        | 15 | 0.00128                  |\n",
    "| Passenger Cars | Petrol | Large-SUV-Executive | Euro 4        | GDI        | PM Exhaust | Rural          | 10               | 130              | 0          | 0          | 0.000836   | 0          | 0          | 0          | 1          | 0                    | 0                        | 15 | 0.000836                 |\n",
    "| Passenger Cars | Petrol | Large-SUV-Executive | Euro 4        | GDI        | PM Exhaust | Highway        | 10               | 130              | 0          | 0          | 0.00119    | 0          | 0          | 0          | 1          | 0                    | 0                        | 15 | 0.00119                  |\n",
    "| Passenger Cars | Petrol | Large-SUV-Executive | Euro 4        | PFI        | PM Exhaust | Urban Peak     | 10               | 130              | 0          | 0          | 0.00128    | 0          | 0          | 0          | 1          | 0                    | 0                        | 15 | 0.00128                  |\n",
    "| Passenger Cars | Petrol | Large-SUV-Executive | Euro 4        | PFI        | PM Exhaust | Urban Off Peak | 10               | 130              | 0          | 0          | 0.00128    | 0          | 0          | 0          | 1          | 0                    | 0                        | 15 | 0.00128                  |\n",
    "| Passenger Cars | Petrol | Large-SUV-Executive | Euro 4        | PFI        | PM Exhaust | Rural          | 10               | 130              | 0          | 0          | 0.000836   | 0          | 0          | 0          | 1          | 0                    | 0                        | 15 | 0.000836                 |\n",
    "| Passenger Cars | Petrol | Large-SUV-Executive | Euro 4        | PFI        | PM Exhaust | Highway        | 10               | 130              | 0          | 0          | 0.00119    | 0          | 0          | 0          | 1          | 0                    | 0                        | 15 | 0.00119                  |\n",
    "| Passenger Cars | Petrol | Large-SUV-Executive | Euro 5        | GDI        | PM Exhaust |                | 10               | 130              | 5.7274E-07 | -0.0001259 | 0.00690719 | 0.06422941 | 0.00032976 | -0.0877664 | 6.01192129 | 0                    | 0                        | 15 | 0.00197701               |\n",
    "| Passenger Cars | Petrol | Large-SUV-Executive | Euro 5        | PFI        | PM Exhaust |                | 10               | 130              | 5.7274E-07 | -0.0001259 | 0.00690719 | 0.06422941 | 0.00032976 | -0.0877664 | 6.01192129 | 0                    | 0                        | 15 | 0.00197701               |\n",
    "| Passenger Cars | Petrol | Large-SUV-Executive | Euro 6 a/b/c  | GDI        | PM Exhaust |                | 10               | 130              | 7.3573E-07 | -0.0001581 | 0.00928471 | 0.04108643 | 0.00026877 | -0.077925  | 6.02105323 | 0                    | 0                        | 15 | 0.00199838               |\n",
    "| Passenger Cars | Petrol | Large-SUV-Executive | Euro 6 a/b/c  | PFI        | PM Exhaust |                | 10               | 130              | 7.3573E-07 | -0.0001581 | 0.00928471 | 0.04108643 | 0.00026877 | -0.077925  | 6.02105323 | 0                    | 0                        | 15 | 0.00199838               |\n",
    "| Passenger Cars | Petrol | Large-SUV-Executive | Euro 6 d-temp | GDI        | PM Exhaust |                | 10               | 130              | 5.5963E-07 | -0.0001169 | 0.00745951 | 0.00740175 | 9.3328E-05 | -0.0348877 | 3.5051065  | 0.5                  | 0                        | 15 | 0.00105318               |\n",
    "| Passenger Cars | Petrol | Large-SUV-Executive | Euro 6 d-temp | PFI        | PM Exhaust |                | 10               | 130              | 5.5963E-07 | -0.0001169 | 0.00745951 | 0.00740175 | 9.3328E-05 | -0.0348877 | 3.5051065  | 0.5                  | 0                        | 15 | 0.00105318               |\n",
    "| Passenger Cars | Petrol | Large-SUV-Executive | Euro 6 d      | GDI        | PM Exhaust |                | 10               | 130              | 5.5963E-07 | -0.0001169 | 0.00745951 | 0.00740175 | 9.3328E-05 | -0.0348877 | 3.5051065  | 0.5                  | 0                        | 15 | 0.00105318               |\n",
    "| Passenger Cars | Petrol | Large-SUV-Executive | Euro 6 d      | PFI        | PM Exhaust |                | 10               | 130              | 5.5963E-07 | -0.0001169 | 0.00745951 | 0.00740175 | 9.3328E-05 | -0.0348877 | 3.5051065  | 0.5                  | 0                        | 15 | 0.00105318               |\n",
    "| Passenger Cars | Diesel | Large-SUV-Executive | Euro 4        | DPF        | PM Exhaust |                | 10               | 130              | 1.1723E-05 | -0.0018157 | 0.15159145 | 2.443E-14  | -4.455E-18 | -3.28E-15  | 3.36869884 | 0                    | 0                        | 15 | 0.037698                 |\n",
    "| Passenger Cars | Diesel | Large-SUV-Executive | Euro 5        | DPF        | PM Exhaust |                | 10               | 130              | -2.689E-07 | 7.5661E-05 | 0.02388406 | 0.08265939 | -0.000608  | 0.21145386 | 4.45558199 | 0                    | 0                        | 15 | 0.00406765               |\n",
    "| Passenger Cars | Diesel | Large-SUV-Executive | Euro 6 a/b/c  | DPF        | PM Exhaust |                | 10               | 130              | 0.0004673  | 0.0664095  | -0.3250106 | 0.96076264 | 1.13723866 | 0.54617955 | 0.28963315 | 0                    | 0                        | 15 | 0.0031787                |\n",
    "| Passenger Cars | Diesel | Large-SUV-Executive | Euro 6 d-temp | DPF        | PM Exhaust |                | 10               | 130              | 0.0004673  | 0.0664095  | -0.3250106 | 0.96076264 | 1.13723866 | 0.54617955 | 0.28963315 | 0                    | 0                        | 15 | 0.0031787                |\n",
    "| Passenger Cars | Diesel | Large-SUV-Executive | Euro 6 d      | DPF        | PM Exhaust |                | 10               | 130              | 0.0004673  | 0.0664095  | -0.3250106 | 0.96076264 | 1.13723866 | 0.54617955 | 0.28963315 | 0                    | 0                        | 15 | 0.0031787                |\n",
    "    </div>  \n",
    " </details>"
   ]
  },
  {
   "cell_type": "markdown",
   "metadata": {},
   "source": [
    "Testing vehicles for emissions is a regular part of motor manufacturing and maintenance. While some of it has a dodgy past (think dieselgate from VW https://www.telegraph.co.uk/finance/newsbysector/industry/11906842/Five-questions-about-the-VW-emissions-scandal-that-wont-go-away.html), there are more safeguards in place now. This is quite a nice read from a personal viewpoint by one 'concerned BBC journalist': https://www.bbc.co.uk/news/resources/idt-sh/how_toxic_is_your_car_exhaust\n",
    "<img style=\"float: right;\" src=\"images/mira.png\" alt=\"emissions testing\" width=\"360px\"/></p>"
   ]
  },
  {
   "cell_type": "code",
   "execution_count": 2,
   "metadata": {},
   "outputs": [
    {
     "name": "stdout",
     "output_type": "stream",
     "text": [
      "100\n"
     ]
    }
   ],
   "source": [
    "# Should now scale for the time of day effect\n",
    "# TAF - Temporal Allocation Factor\n",
    "#  Get from up-to-date Tom Tom web site: \n",
    "#      https://www.tomtom.com/en_gb/traffic-index/edinburgh-traffic/\n",
    "#  For a typical Wednesday since that seems to be the eveing rush-hour with most congestion\n",
    "# TAF list has % congestion by hour starting at hour 0, midnight\n",
    "# In Jupyter Notebook make this a Figure\n",
    "TomTom_congestion = [2, 0, 0, 0, 0, 0, 13, 54, 80, 50, 38, 38, 40, \\\n",
    "        40, 42, 55, 81, 86, 54, 30, 20, 16, 14, 8]\n",
    "#print(sum(TomTom_congestion))\n",
    "trafficstats = {\"AADT\": 10000,\n",
    "                \"hour\": 12,\n",
    "                \"vs\": 15\n",
    "               }\n",
    "# Now adjust for fleet Mix and AADT and Time\n",
    "# Defaults -  get from spreadsheet for 2020\n",
    "# Urban split for England in 2020 below since that's likely to be the most relevant\n",
    "# Use a selection box for this\n",
    "fleetmix_2020 = {\"electric\": 0.5, \n",
    "                 \"petrol\": 47.8, \n",
    "                 \"diesel\":33.1,\n",
    "                 \"petrol_lgv\": 0.4,\n",
    "                 \"diesel_lgv\": 15.0,\n",
    "                 \"rigid\": 0.9,\n",
    "                 \"artic\": 0.4,\n",
    "                 \"biodiesel\": 0.1,\n",
    "                 \"buses\": 0.7,\n",
    "                 \"motorcycle\": 1.1\n",
    "                }\n",
    "sumt=0.0\n",
    "for x in fleetmix_2020.values():\n",
    "  sumt=sumt+x\n",
    "sumtt=(str(int(sumt)))\n",
    "print(sumtt)"
   ]
  },
  {
   "cell_type": "code",
   "execution_count": 3,
   "metadata": {},
   "outputs": [
    {
     "data": {
      "application/vnd.jupyter.widget-view+json": {
       "model_id": "e28f39f7e0034b4d8a409e94201d438d",
       "version_major": 2,
       "version_minor": 0
      },
      "text/plain": [
       "VBox(children=(HBox(children=(BoundedFloatText(value=0.5, description='electric %', max=90.0, min=0.1, step=1.…"
      ]
     },
     "metadata": {},
     "output_type": "display_data"
    }
   ],
   "source": [
    "# All this to go into separate python code to be imported\n",
    "bft_electric = widgets.BoundedFloatText(value = fleetmix_2020[\"electric\"], min=0.1, max=90, step=1, \n",
    "                                     description=\"electric %\", width=50)\n",
    "bft_petrol_cars = widgets.BoundedFloatText(value = fleetmix_2020[\"petrol\"], min=5, max=75, step=0.5, \n",
    "                                        description=\"petrol cars %\", width=50)\n",
    "bft_diesel_cars = widgets.BoundedFloatText(value =fleetmix_2020[\"diesel\"],  min=5, max=75, step=0.5, \n",
    "                                        description=\"diesel cars %\", width=50)\n",
    "bft_petrol_lgv = widgets.BoundedFloatText(value =fleetmix_2020[\"petrol_lgv\"], min=0.1, max=0.8, step=0.1, \n",
    "                                       description=\"petrol lgv %\", width=50)\n",
    "bft_diesel_lgv = widgets.BoundedFloatText(value=fleetmix_2020[\"diesel_lgv\"], min=3, max=18, step=1, \n",
    "                                       description=\"diesel lgv %\", width=50)\n",
    "bft_rigid_truck = widgets.BoundedFloatText(value=fleetmix_2020[\"rigid\"],min=0.1, max=1.0, step=0.1, \n",
    "                                        description=\"rigid truck %\", width=50)\n",
    "bft_artic_truck = widgets.BoundedFloatText(value=fleetmix_2020[\"artic\"], min=0.1, max=0.6, step=0.1, \n",
    "                                        description=\"artic truck %\", width=50)  \n",
    "bft_biodiesel = widgets.BoundedFloatText(value=fleetmix_2020[\"biodiesel\"], min=0.1, max=1.0,step=0.1, \n",
    "                                      description=\"biodiesel %\", width=50)\n",
    "bft_buses = widgets.BoundedFloatText(value=fleetmix_2020[\"buses\"], min=0.1, max=1.5, step=0.1, \n",
    "                                  description=\"buses %\", width=50)\n",
    "bft_motorcycles = widgets.BoundedFloatText(value=fleetmix_2020[\"motorcycle\"], min=0.5, max=1.5, step=0.1, \n",
    "                                        description=\"motorcycles %\", width=50)\n",
    "sumtotal = widgets.Text(value=sumtt,description=\"Total should be 100%\", width=50, color='red')\n",
    "\n",
    "def checksum():\n",
    "    sum=0.0\n",
    "    for x in fleetmix_2020.values():\n",
    "        sum=sum+x\n",
    "    sumt=sum\n",
    "    sumtt=(str(int(sumt))) # make it an integer so students don't chase getting exactly 100.0\n",
    "    sumtotal.value = sumtt   \n",
    "def bft_electric_eventhandler(change):\n",
    "    bft_electric.observe(bft_electric_eventhandler, names='value')\n",
    "    fleetmix_2020[\"electric\"]=bft_electric.value\n",
    "    checksum()\n",
    "def bft_petrol_cars_eventhandler(change):\n",
    "    bft_petrol_cars.observe(bft_petrol_cars_eventhandler, names='value')\n",
    "    fleetmix_2020[\"petrol\"]=bft_petrol_cars.value\n",
    "    checksum()\n",
    "def bft_diesel_cars_eventhandler(change):\n",
    "    bft_diesel_cars.observe(bft_diesel_cars_eventhandler, names='value')\n",
    "    fleetmix_2020[\"diesel\"]=bft_diesel_cars.value\n",
    "    checksum()\n",
    "def bft_petrol_lgv_eventhandler(change):\n",
    "    bft_petrol_lgv.observe(bft_petrol_lgv_eventhandler, names='value')\n",
    "    fleetmix_2020[\"petrol_lgv\"]=bft_petrol_lgv.value\n",
    "    checksum()\n",
    "def bft_diesel_lgv_eventhandler(change):\n",
    "    bft_diesel_lgv.observe(bft_diesel_lgv_eventhandler, names='value')\n",
    "    fleetmix_2020[\"diesel_lgv\"]=bft_diesel_lgv.value\n",
    "    checksum()\n",
    "def bft_rigid_truck_eventhandler(change):\n",
    "    bft_rigid_truck.observe(bft_rigid_truck_eventhandler, names='value')\n",
    "    fleetmix_2020[\"rigid\"]=bft_rigid_truck.value\n",
    "    checksum()\n",
    "def bft_artic_truck_eventhandler(change):\n",
    "    bft_artic_truck.observe(bft_artic_truck_eventhandler, names='value')\n",
    "    fleetmix_2020[\"artic\"]=bft_artic_truck.value\n",
    "    checksum()\n",
    "def bft_biodiesel_eventhandler(change):\n",
    "    bft_biodiesel.observe(bft_biodiesel_eventhandler, names='value')\n",
    "    fleetmix_2020[\"biodiesel\"]=bft_biodiesel.value\n",
    "    checksum()\n",
    "def bft_buses_eventhandler(change):\n",
    "    bft_buses.observe(bft_buses_eventhandler, names='value')\n",
    "    fleetmix_2020[\"buses\"]=bft_buses.value\n",
    "    checksum()\n",
    "def bft_motorcycles_eventhandler(change):\n",
    "    bft_motorcycles.observe(bft_motorcycles_eventhandler, names='value')\n",
    "    fleetmix_2020[\"motorcycle\"]=bft_motorcycles.value\n",
    "    checksum()\n",
    "\n",
    "#sumtotal.observe(sumtotal_eventhandler, names='value')\n",
    "bft_electric.observe(bft_electric_eventhandler, names='value')\n",
    "bft_petrol_cars.observe(bft_petrol_cars_eventhandler, names='value')\n",
    "bft_diesel_cars.observe(bft_diesel_cars_eventhandler, names='value')\n",
    "bft_petrol_lgv.observe(bft_petrol_lgv_eventhandler, names='value')\n",
    "bft_diesel_lgv.observe(bft_diesel_lgv_eventhandler, names='value')\n",
    "bft_rigid_truck.observe(bft_rigid_truck_eventhandler, names='value')\n",
    "bft_artic_truck.observe(bft_artic_truck_eventhandler, names='value')\n",
    "bft_biodiesel.observe(bft_biodiesel_eventhandler, names='value')\n",
    "bft_buses.observe(bft_buses_eventhandler, names='value')\n",
    "bft_motorcycles.observe(bft_motorcycles_eventhandler, names='value')\n",
    "\n",
    "h1 = widgets.HBox(children=[bft_electric, bft_petrol_cars, bft_diesel_cars])\n",
    "h2 = widgets.HBox(children=[bft_petrol_lgv, bft_diesel_lgv, bft_rigid_truck])\n",
    "h3 = widgets.HBox(children=[bft_artic_truck, bft_biodiesel, bft_buses])\n",
    "h4 = widgets.HBox(children=[bft_motorcycles,sumtotal])\n",
    "\n",
    "widgets.VBox(children=[h1,h2,h3,h4])\n"
   ]
  },
  {
   "cell_type": "code",
   "execution_count": 4,
   "metadata": {},
   "outputs": [
    {
     "name": "stdout",
     "output_type": "stream",
     "text": [
      "{'electric': 0.5, 'petrol': 47.8, 'diesel': 33.1, 'petrol_lgv': 0.4, 'diesel_lgv': 15.0, 'rigid': 0.9, 'artic': 0.4, 'biodiesel': 0.1, 'buses': 0.7, 'motorcycle': 1.1}\n",
      "100.00000000000001\n"
     ]
    }
   ],
   "source": [
    "# Check totals add up to 100% or near 100%\n",
    "\n",
    "print(fleetmix_2020)\n",
    "sum=0.0\n",
    "for x in fleetmix_2020.values():\n",
    "  sum=sum+x\n",
    "print(sum)"
   ]
  },
  {
   "cell_type": "code",
   "execution_count": 5,
   "metadata": {},
   "outputs": [
    {
     "data": {
      "application/vnd.jupyter.widget-view+json": {
       "model_id": "9b2b0ab6ceb14a25bc59b0a62d5ee203",
       "version_major": 2,
       "version_minor": 0
      },
      "text/plain": [
       "HBox(children=(BoundedIntText(value=10000, description='AADT', max=55000, min=1000, step=1000), BoundedIntText…"
      ]
     },
     "metadata": {},
     "output_type": "display_data"
    }
   ],
   "source": [
    "bft_hour = widgets.BoundedIntText(value=trafficstats[\"hour\"],min=1, max=24, step=1,\n",
    "                                    description=\"Hour of Day\")\n",
    "bft_AADT = widgets.BoundedIntText(value=trafficstats[\"AADT\"], min=1000, max=55000,step=1000,\n",
    "                                    description=\"AADT\")\n",
    "bft_vs = widgets.BoundedIntText(value=trafficstats[\"vs\"], min=5, max=85, step=5,\n",
    "                                  description=\"Speed\")\n",
    "\n",
    "def bft_hour_eventhandler(change):\n",
    "    bft_hour.observe(bft_hour_eventhandler, names='value')\n",
    "    trafficstats[\"hour\"]=bft_hour.value\n",
    "def bft_AADT_eventhandler(change):\n",
    "    bft_AADT.observe(bft_AADT_eventhandler, names='value')\n",
    "    trafficstats[\"AADT\"]=bft_AADT.value\n",
    "def bft_vs_eventhandler(change):\n",
    "    bft_vs.observe(bft_vs_eventhandler, names='value')\n",
    "    trafficstats[\"vs\"]=bft_vs.value\n",
    "    \n",
    "bft_hour.observe(bft_hour_eventhandler, names='value')\n",
    "bft_AADT.observe(bft_AADT_eventhandler, names='value')\n",
    "bft_vs.observe(bft_vs_eventhandler, names='value')\n",
    "    \n",
    "input_widgets = widgets.HBox([bft_AADT, bft_vs, bft_hour])\n",
    "display(input_widgets)"
   ]
  },
  {
   "cell_type": "code",
   "execution_count": 9,
   "metadata": {},
   "outputs": [
    {
     "name": "stdout",
     "output_type": "stream",
     "text": [
      "10000 15 12\n",
      "PM Emission (g/m/s) =  [1.44303544e-05]\n",
      "NOx Emission (g/m/s) =  [0.00027263]\n"
     ]
    }
   ],
   "source": [
    "# This cell actually calculates the emission inventory for any road taking\n",
    "# into account the % type of vehicles in the mix, the congestion,\n",
    "# traffic count, hour of day and average vehicle speed. SO - if you change\n",
    "# any of these options above (and you need to for this exercise), you \n",
    "# need to re-run this cell\n",
    "\n",
    "hwpme,hwnxe,traffic_count = efbvt.efbvt(fleetmix_2020, trafficstats, TomTom_congestion)\n",
    "\n",
    "# returns PM and NOx emission in units of g/m/s ready for input to RLINE\n",
    "# It does take a few seconds to run so be patient. \n",
    "# You'll see 3 lines of text output when the cell completes"
   ]
  },
  {
   "cell_type": "markdown",
   "metadata": {},
   "source": [
    "Let's plot these results for 4 different conditions of atmospheric stability: very stable, stable, neutral and unstable. We're going to model the ground-level concentration (glc) across a 100 x 100 m domain with two main roads running at right angles to one another (in practice, you can have any geometry as we'll see later). <img style=\"float: right;\" src=\"images/ED3_site_st_leonards.png\" alt=\"St Leonards\" width=\"300px\"/></p>I've chosen to output glc's for PM and NOx at 4 sites, each within 20 m of the main intersection - to replicate what you might expect at say the St Leonard's monitoring site in Edinburgh,<img style=\"float: right;\" src=\"images/ED1_site_st_johns_road.png\" alt=\"St John Road\" width=\"300px\"/></p> rather than the site next to St John's Road in Edinburgh which is right on the pavement. (Have a look at Lecture 3 to see results from the commercial ADMS model and how quickly glc drops off from the road).\n",
    "\n",
    "\n"
   ]
  },
  {
   "cell_type": "code",
   "execution_count": 8,
   "metadata": {},
   "outputs": [
    {
     "name": "stdout",
     "output_type": "stream",
     "text": [
      "Click to run RLINE with the folllowing inputs:  {'AADT': 10000, 'hour': 12, 'vs': 15}\n",
      "It'll take a few seconds to run then you'll see a message to proceed to the next cell\n"
     ]
    },
    {
     "data": {
      "application/vnd.jupyter.widget-view+json": {
       "model_id": "7c1b0c862a05469a8cdabf63f891e1ab",
       "version_major": 2,
       "version_minor": 0
      },
      "text/plain": [
       "Button(description='Run RLINE', style=ButtonStyle(button_color='tomato'))"
      ]
     },
     "metadata": {},
     "output_type": "display_data"
    },
    {
     "name": "stdout",
     "output_type": "stream",
     "text": [
      "running RLINE ...\n",
      "Run complete - goto next cell\n"
     ]
    }
   ],
   "source": [
    "print(\"Click to run RLINE with the folllowing inputs: \",trafficstats)\n",
    "print(\"It'll take a few seconds to run then you'll see a message to proceed to the next cell\")\n",
    "btn = widgets.Button(description='Run RLINE', width=100)\n",
    "btn.style.button_color = 'tomato'\n",
    "display(btn)\n",
    "def btn_eventhandler(obj):\n",
    "    if not os.path.exists(\"Line_Source_Inputs.txt\"):\n",
    "        print(\"File does not exist: \"+str('Line_Source_Inputs.txt'))\n",
    "    if not os.path.exists(\"Receptor_Example.txt\"):\n",
    "        print(\"File does not exist: \"+str(\"Receptor_Example.txt\"))    \n",
    "    if not os.path.exists(\"Source_Example.txt\"):\n",
    "        print(\"File does not exist: \"+str(\"Source_Example.txt\"))\n",
    "    if not os.path.exists(\"Met_Example.sfc\"):\n",
    "        print(\"File does not exist: \"+str(\"Met_Example.sfc\"))\n",
    "    # Delete any old data before running the model again\n",
    "    ## delete only if file exists ##\n",
    "    if os.path.exists(\"RLINEv1_2_gfortran_mac.exe\"):\n",
    "        #ret = subprocess.run([\"./RLINEv1_2.ifort.x\"],shell=True)\n",
    "        print(\"running RLINE ...\")\n",
    "        ret = subprocess.call([\"./RLINEv1_2_gfortran_mac.exe\"],shell=True)\n",
    "    else:\n",
    "        sys.exit(0)\n",
    "    if(ret == 0):\n",
    "        print(\"Run complete - goto next cell\")\n",
    "\n",
    "btn.on_click(btn_eventhandler)"
   ]
  },
  {
   "cell_type": "code",
   "execution_count": null,
   "metadata": {},
   "outputs": [],
   "source": []
  },
  {
   "cell_type": "code",
   "execution_count": null,
   "metadata": {},
   "outputs": [],
   "source": [
    "sites = []\n",
    "max = min = 0\n",
    "gs = gridspec.GridSpec(4, 4)\n",
    "gs.update(left=0.10, right=0.95, hspace=0.05)\n",
    "hourly_stab = ['stable','weakly stable','weakly convective','convective']\n",
    "sitenames = ['site 1','site 2','site 3','site 4']\n",
    "infilename = 'Output_Example_Numerical.csv'\n",
    "infilename2 = 'Met_Example.csv'   \n",
    "# use Pandas to read in concentration data\n",
    "dfc=pd.read_csv(\"Output_Example_Numerical.csv\", header=10, skipinitialspace=True)\n",
    "# use Pandas to read in meteorology data\n",
    "dfm=pd.read_csv(\"Met_Example.csv\", skip_blank_lines=True, skipinitialspace=True)\n",
    "#dfm.head(4)\n",
    "# NB - RLINE has calculated the concentrations based on unit emission\n",
    "# so we need to multiply the predicted concentrations by the actual emissions\n",
    "hourlist=[]\n",
    "# Split into hourly dataframes for graphing\n",
    "# https://stackoverflow.com/questions/54046707/pandas-split-one-dataframe-into-multiple-dataframes\n",
    "for h in dfc['Hour'].unique():\n",
    "    temp = 'dfc_{}'.format(h)\n",
    "    hourlist.append(temp)  # keep track of data files to process\n",
    "    vars()[temp] = dfc[dfc['Hour']==h]\n",
    "hourlist=[dfc_1, dfc_2, dfc_3, dfc_4]\n",
    "\n",
    "for h in dfm['Hour'].unique():\n",
    "    temp = 'dfm_{}'.format(h)    \n",
    "    vars()[temp] = dfm[dfm['Hour']==h]\n",
    "methourlist=[dfm_1, dfm_2, dfm_3, dfm_4]\n",
    "#plm.plm(gs, vars()[temp], sites)\n",
    "i=0 \n",
    "# extract the x, y, z-values to 1-D arrays for plotting\n",
    "xx = dfc_1['X-Coordinate'].to_numpy()\n",
    "yy = dfc_1['Y-Coordinate'].to_numpy()\n",
    "siteinfo = pd.DataFrame(sitenames)\n",
    "\n",
    "for dfhn in hourlist:\n",
    "    dfh = pd.DataFrame(dfhn)\n",
    "    hour=i\n",
    "    stab=hourly_stab[i]\n",
    "    print(stab)\n",
    "    # Particulate matter\n",
    "    zzp = (dfh['C_G1']*hwpme+dfh['C_G2']*hwpme).to_numpy()\n",
    "    # NOx\n",
    "    zzn = (dfh['C_G1']*hwnxe+dfh['C_G2']*hwnxe).to_numpy()\n",
    "\n",
    "    max = (dfh['C_G1']*hwpme+dfh['C_G2']*hwpme).max()\n",
    "    min = (dfh['C_G1']*hwpme+dfh['C_G2']*hwpme).min()\n",
    "\n",
    "    # get the concentration values at the 4 receptor sites\n",
    "    dfs1 = dfh[((dfh['X-Coordinate'] == 20.000) & (dfh['Y-Coordinate'] == 20.000))]\n",
    "    dfs2 = dfh[((dfh['X-Coordinate'] == 20.000) & (dfh['Y-Coordinate'] == -20.000))]\n",
    "    dfs3 = dfh[((dfh['X-Coordinate'] == -20.000) & (dfh['Y-Coordinate'] == -20.000))]\n",
    "    dfs4 = dfh[((dfh['X-Coordinate'] == -20.000) & (dfh['Y-Coordinate'] == 20.000))]\n",
    "    # Get the concentration values at the 4 receptor sites\n",
    "    # Particulates first\n",
    "    s1zp = dfs1.iloc[0]['C_G1']*hwpme+dfs1.iloc[0]['C_G2']*hwpme\n",
    "    s2zp = dfs2.iloc[0]['C_G1']*hwpme+dfs2.iloc[0]['C_G2']*hwpme\n",
    "    s3zp = dfs3.iloc[0]['C_G1']*hwpme+dfs3.iloc[0]['C_G2']*hwpme\n",
    "    s4zp = dfs4.iloc[0]['C_G1']*hwpme+dfs4.iloc[0]['C_G2']*hwpme\n",
    "    # Next NOx\n",
    "    s1zn = dfs1.iloc[0]['C_G1']*hwnxe+dfs1.iloc[0]['C_G2']*hwnxe\n",
    "    s2zn = dfs2.iloc[0]['C_G1']*hwnxe+dfs2.iloc[0]['C_G2']*hwnxe\n",
    "    s3zn = dfs3.iloc[0]['C_G1']*hwnxe+dfs3.iloc[0]['C_G2']*hwnxe\n",
    "    s4zn = dfs4.iloc[0]['C_G1']*hwnxe+dfs4.iloc[0]['C_G2']*hwnxe\n",
    "    \n",
    "    sitesp = [s1zp, s2zp, s3zp, s4zp]\n",
    "    sitesn = [s1zn, s2zn, s3zn, s4zn]\n",
    "    # Put the Conc data into a Pandas DataFrame so you can display it\n",
    "    siteinfo = pd.DataFrame(index=sitenames)\n",
    "    siteinfo['PM']  = sitesp\n",
    "    siteinfo['NOx']  = sitesn\n",
    "    siteinfo['PM'] = pd.Series([np.round(val, 2) for val in siteinfo['PM']], index = siteinfo.index)\n",
    "    siteinfo['NOx'] = pd.Series([np.round(val, 2) for val in siteinfo['NOx']], index = siteinfo.index)\n",
    "    print(siteinfo)\n",
    "    # pass to plotting routine\n",
    "    pls.pls(gs, xx, yy, zzp, hour, min, max, methourlist[i], sitesp, stab)\n",
    "    i=i+1\n",
    "    print('-----------------------------------------------------')\n"
   ]
  },
  {
   "cell_type": "markdown",
   "metadata": {},
   "source": [
    "You'll notice the dispersion patterns look similar since wind direction largely controls the pullutant here given the source height (the vehicle exhaust is low and similar'ish acrosss the vehicle fleet). The actual values of ground-level concentration do vary markedly of course in the different stability conditions."
   ]
  },
  {
   "cell_type": "markdown",
   "metadata": {},
   "source": [
    "<img style=\"float: center;\" src=\"images/urban_rural_scape.png\" alt=\"urban\" width=\"1100px\"/>"
   ]
  },
  {
   "cell_type": "code",
   "execution_count": null,
   "metadata": {},
   "outputs": [],
   "source": []
  },
  {
   "cell_type": "code",
   "execution_count": null,
   "metadata": {},
   "outputs": [],
   "source": []
  },
  {
   "cell_type": "code",
   "execution_count": null,
   "metadata": {},
   "outputs": [],
   "source": []
  },
  {
   "cell_type": "markdown",
   "metadata": {},
   "source": [
    "# END"
   ]
  },
  {
   "cell_type": "markdown",
   "metadata": {},
   "source": []
  }
 ],
 "metadata": {
  "kernelspec": {
   "display_name": "Python 3",
   "language": "python",
   "name": "python3"
  },
  "language_info": {
   "codemirror_mode": {
    "name": "ipython",
    "version": 3
   },
   "file_extension": ".py",
   "mimetype": "text/x-python",
   "name": "python",
   "nbconvert_exporter": "python",
   "pygments_lexer": "ipython3",
   "version": "3.8.6"
  }
 },
 "nbformat": 4,
 "nbformat_minor": 4
}
