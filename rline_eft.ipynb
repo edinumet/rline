{
 "cells": [
  {
   "cell_type": "markdown",
   "metadata": {},
   "source": [
    "<img style=\"float: left;\" src=\"images/EP_Logo.png\" alt=\"UoE\" width=\"300px\"/>\n",
    "<img style=\"float: right;\" src=\"images/UoE_Logo.png\" alt=\"UoE\" width=\"300px\"/>\n",
    "<img style=\"float: center;\" src=\"images/urban_rural_scape.png\" alt=\"urban\" width=\"1100px\"/>"
   ]
  },
  {
   "cell_type": "markdown",
   "metadata": {},
   "source": [
    "# Modelling emissions from road traffic\n",
    "<img style=\"float: right;\" src=\"images/car-exhaust.png\" alt=\"smoky car\" width=\"240px\"/></p>\n",
    " \n",
    "Jupyter notebook for ECSC09005 Environmental Pollution  \n",
    "author: John Moncrieff *for* Session 2020-21  [version 0.14, latest 11:06, 1 Feb 2021]\n",
    "## Background\n",
    "Modelling polutant dispersal from fixed point and area sources by the gaussian plume model is obvious but how do we model vehicle emissions from traffic flowing along a road? We just adapt the gaussian plume model by effectively replicating point sources along the roadway and running individual gaussian plume models at each of these points. This is known as a line source model. In this exercise, we will use a line source model called *RLine* from  the US Environmnental Protection Agency. This model has been well used for many years and is used for all sorts of regulatory purposes in the USA. You can read more about RLine at the US EPA's web site - https://www.cmascenter.org/r-line/. You used the UK's DMRB screening model to look at traffic emissions; RLINE is a step up in complexity and realism.\n",
    "\n",
    "What I want you to get out of RLine is an appreciation for how emissions from the vehicle fleet is influenced by wind speed, atmospheric stability and wind direction and how that dictates local air quality.\n",
    "\n",
    "## Imports\n",
    "Let's start by importing some libraries to the environment:\n",
    "- *matplotlib inline* for creating inline plots\n",
    "- *pandas* to order and sort data in a convenient Table-like format\n",
    "- *numpy* for numerical routines\n",
    "- *matplotlib* for plotting data\n",
    "- *scipy* for interploation routines\n",
    "- *tqdm* for timing progress bar \n",
    "- *subprocess* so we can run RLine which is written in FORTRAN\n",
    "- *ipywidgets* for interactivity\n",
    "- *src* for python code that just takes up space in the main notebook"
   ]
  },
  {
   "cell_type": "code",
   "execution_count": 8,
   "metadata": {},
   "outputs": [
    {
     "name": "stdout",
     "output_type": "stream",
     "text": [
      "Imports loaded - continue\n"
     ]
    }
   ],
   "source": [
    "%matplotlib inline\n",
    "import pandas as pd\n",
    "import numpy as np\n",
    "import matplotlib.pyplot as plt\n",
    "from scipy.interpolate import griddata\n",
    "import matplotlib.gridspec as gridspec\n",
    "import sys\n",
    "import math\n",
    "import tqdm as tqdm\n",
    "import subprocess\n",
    "import os\n",
    "from ipywidgets import interact, interactive, fixed, interact_manual\n",
    "import ipywidgets as widgets\n",
    "from IPython.display import display\n",
    "from ipywidgets import HBox, Label\n",
    "from src import efbvt, pls, ytv\n",
    "from src.reftinterface import reftinterface\n",
    "print('Imports loaded - continue')"
   ]
  },
  {
   "cell_type": "markdown",
   "metadata": {},
   "source": [
    "## Step 1: Get the emissions inventory"
   ]
  },
  {
   "cell_type": "markdown",
   "metadata": {},
   "source": [
    "As we discussed in the lecture series, we need 3 pieces of information to perform a dispersion modelling exercise: weather conditions, an emissions inventory and a dispersion model. <img style=\"float: right;\" src=\"images/dm.png\" alt=\"dispersion model process\" width=\"450px\"/></p>In this exercise, we'll just assume 4 different atmospheric stabilities and use a dispersion model called RLINE which models emissions from traffic. The emissions inventory we will use is derived from vehicle tests under different traffic scenarios and on different road types. It can get a bit complicated to come up with vehicle emissions that are then fed into the dispersion model. <br/><br/>We use a methodology which has been well-documented. I'll give you a flavour of what is involved but the detail can be a bit overwhelming - quite often users in the UK use an Excel-based system called the 'Emissions Factor Toolkit' (https://laqm.defra.gov.uk/review-and-assessment/tools/emissions-factors-toolkit.html and operates rather like the DMRB screening model you used in the practical exercise) but we've found that this no longer seems to be compatible with macs (at least in GeoSciences - it works on Windows PCs) in particular so I've coded it up into python for this exercise (my python code is imported here but if you want to view it, its in the file you downloaded from GitHub)."
   ]
  },
  {
   "cell_type": "markdown",
   "metadata": {},
   "source": [
    "The total emission factors ($EF_i$) and traffic activity ($A_i$) inputs are combined to create hourly emissions, ($E_i$) for each roadlink ($i$) in the area we are modelling.\n",
    "$E_i = EF_i \\ A_i \\tag{1} $\n",
    "> where:    \n",
    "$E F_i = \\sum_{vehclass} ef_i (pollutant, speed, month, temp) \\ fleetmix(vehclass) \\tag{2}$<br/><br/>\n",
    "$A_i = AADT_i \\ TAF_i (hour, day, month) \\tag{3} $\n",
    "\n",
    "\n",
    "The concentration ($C$) at any location is given by $C = \\sum_i E_i \\ X_i \\ \\tag{4}$ where $X_i$ is the dispersion from each road link, $i$ to each receptor generated by RLINE with unit emission rate. $AADT_i$ is the annual average daily traffic; $TAF_i$ is the Temporal Allocation Factor ie congestion. "
   ]
  },
  {
   "cell_type": "markdown",
   "metadata": {},
   "source": [
    "### Sources of emission data for vehicles\n",
    "\n",
    "In the EU, testing and reporting of vehicle emissions is reported via a service known as COPERT - the DMRB model you used previously uses data from COPERT as input for its calculations (in DMRB you just don't see this level of detail since its a screening model after all). COPERT produces spreadsheets of emission data for >60  vehicle types in Europe and these sheets are organised by vehicle sector (eg passenger cars, articulated lorries, buses etc) and emisisons are given in terms of a polynomial fit to measured emissions tests as a function of speed. Equation 5 below is such an equation. For this model, I've taken one of the COPERT spreadsheets that refers to 2020 emissions and coded the emissions as a function of vehicle type and vehicle speed. This creates the emission inventory we then feed into the RLINE model. The link to COPERT if you want to follow any of this for yourself (and its NOT required for this exercise) is https://www.emisia.com/utilities/copert/  <br></br>\n",
    "Equation 5 is the polynomial fit for all vehicle types (where $\\alpha, \\beta, \\gamma, \\delta, \\epsilon, \\zeta$ and $\\eta$ are different for each vehicle type and $v$ is the vehicle speed. RF is an adjustment factor, usually small.\n",
    "\n",
    "$EF = \\Large \\frac{(\\alpha v^2 + \\beta v + \\gamma + \\delta /v)}{(\\epsilon v^2 + \\zeta v + \\eta)} \\large (1-RF) \\tag{5}$"
   ]
  },
  {
   "cell_type": "markdown",
   "metadata": {},
   "source": [
    "<details>  \n",
    "<summary markdown=\"span\">If you REALLY want to see what a tiny part of one of the input spreadsheets to this program is, click to expand!</summary>\n",
    "    \n",
    "<div class=\"alert alert-block alert-info\">\n",
    "    \n",
    "|    Category    |  Fuel  |       Segment       | Euro Standard | Technology |  Pollutant |      Mode      | Min Speed [km/h] | Max Speed [km/h] |    Alpha   |    Beta    |    Gamma   |    Delta   |   Epsilon  |    Zita    |     Hta    | Reduction Factor [%] | Bio Reduction Factor [%] | 15 | EF [g/km] or ECF [MJ/km] |\n",
    "|:--------------:|:------:|:-------------------:|:-------------:|:----------:|:----------:|:--------------:|:----------------:|:----------------:|:----------:|:----------:|:----------:|:----------:|:----------:|:----------:|:----------:|:--------------------:|:------------------------:|:--:|:------------------------:|\n",
    "| Passenger Cars | Petrol | Large-SUV-Executive | Euro 4        | GDI        | PM Exhaust | Urban Peak     | 10               | 130              | 0          | 0          | 0.00128    | 0          | 0          | 0          | 1          | 0                    | 0                        | 15 | 0.00128                  |\n",
    "| Passenger Cars | Petrol | Large-SUV-Executive | Euro 4        | GDI        | PM Exhaust | Urban Off Peak | 10               | 130              | 0          | 0          | 0.00128    | 0          | 0          | 0          | 1          | 0                    | 0                        | 15 | 0.00128                  |\n",
    "| Passenger Cars | Petrol | Large-SUV-Executive | Euro 4        | GDI        | PM Exhaust | Rural          | 10               | 130              | 0          | 0          | 0.000836   | 0          | 0          | 0          | 1          | 0                    | 0                        | 15 | 0.000836                 |\n",
    "| Passenger Cars | Petrol | Large-SUV-Executive | Euro 4        | GDI        | PM Exhaust | Highway        | 10               | 130              | 0          | 0          | 0.00119    | 0          | 0          | 0          | 1          | 0                    | 0                        | 15 | 0.00119                  |\n",
    "| Passenger Cars | Petrol | Large-SUV-Executive | Euro 4        | PFI        | PM Exhaust | Urban Peak     | 10               | 130              | 0          | 0          | 0.00128    | 0          | 0          | 0          | 1          | 0                    | 0                        | 15 | 0.00128                  |\n",
    "| Passenger Cars | Petrol | Large-SUV-Executive | Euro 4        | PFI        | PM Exhaust | Urban Off Peak | 10               | 130              | 0          | 0          | 0.00128    | 0          | 0          | 0          | 1          | 0                    | 0                        | 15 | 0.00128                  |\n",
    "| Passenger Cars | Petrol | Large-SUV-Executive | Euro 4        | PFI        | PM Exhaust | Rural          | 10               | 130              | 0          | 0          | 0.000836   | 0          | 0          | 0          | 1          | 0                    | 0                        | 15 | 0.000836                 |\n",
    "| Passenger Cars | Petrol | Large-SUV-Executive | Euro 4        | PFI        | PM Exhaust | Highway        | 10               | 130              | 0          | 0          | 0.00119    | 0          | 0          | 0          | 1          | 0                    | 0                        | 15 | 0.00119                  |\n",
    "| Passenger Cars | Petrol | Large-SUV-Executive | Euro 5        | GDI        | PM Exhaust |                | 10               | 130              | 5.7274E-07 | -0.0001259 | 0.00690719 | 0.06422941 | 0.00032976 | -0.0877664 | 6.01192129 | 0                    | 0                        | 15 | 0.00197701               |\n",
    "| Passenger Cars | Petrol | Large-SUV-Executive | Euro 5        | PFI        | PM Exhaust |                | 10               | 130              | 5.7274E-07 | -0.0001259 | 0.00690719 | 0.06422941 | 0.00032976 | -0.0877664 | 6.01192129 | 0                    | 0                        | 15 | 0.00197701               |\n",
    "| Passenger Cars | Petrol | Large-SUV-Executive | Euro 6 a/b/c  | GDI        | PM Exhaust |                | 10               | 130              | 7.3573E-07 | -0.0001581 | 0.00928471 | 0.04108643 | 0.00026877 | -0.077925  | 6.02105323 | 0                    | 0                        | 15 | 0.00199838               |\n",
    "| Passenger Cars | Petrol | Large-SUV-Executive | Euro 6 a/b/c  | PFI        | PM Exhaust |                | 10               | 130              | 7.3573E-07 | -0.0001581 | 0.00928471 | 0.04108643 | 0.00026877 | -0.077925  | 6.02105323 | 0                    | 0                        | 15 | 0.00199838               |\n",
    "| Passenger Cars | Petrol | Large-SUV-Executive | Euro 6 d-temp | GDI        | PM Exhaust |                | 10               | 130              | 5.5963E-07 | -0.0001169 | 0.00745951 | 0.00740175 | 9.3328E-05 | -0.0348877 | 3.5051065  | 0.5                  | 0                        | 15 | 0.00105318               |\n",
    "| Passenger Cars | Petrol | Large-SUV-Executive | Euro 6 d-temp | PFI        | PM Exhaust |                | 10               | 130              | 5.5963E-07 | -0.0001169 | 0.00745951 | 0.00740175 | 9.3328E-05 | -0.0348877 | 3.5051065  | 0.5                  | 0                        | 15 | 0.00105318               |\n",
    "| Passenger Cars | Petrol | Large-SUV-Executive | Euro 6 d      | GDI        | PM Exhaust |                | 10               | 130              | 5.5963E-07 | -0.0001169 | 0.00745951 | 0.00740175 | 9.3328E-05 | -0.0348877 | 3.5051065  | 0.5                  | 0                        | 15 | 0.00105318               |\n",
    "| Passenger Cars | Petrol | Large-SUV-Executive | Euro 6 d      | PFI        | PM Exhaust |                | 10               | 130              | 5.5963E-07 | -0.0001169 | 0.00745951 | 0.00740175 | 9.3328E-05 | -0.0348877 | 3.5051065  | 0.5                  | 0                        | 15 | 0.00105318               |\n",
    "| Passenger Cars | Diesel | Large-SUV-Executive | Euro 4        | DPF        | PM Exhaust |                | 10               | 130              | 1.1723E-05 | -0.0018157 | 0.15159145 | 2.443E-14  | -4.455E-18 | -3.28E-15  | 3.36869884 | 0                    | 0                        | 15 | 0.037698                 |\n",
    "| Passenger Cars | Diesel | Large-SUV-Executive | Euro 5        | DPF        | PM Exhaust |                | 10               | 130              | -2.689E-07 | 7.5661E-05 | 0.02388406 | 0.08265939 | -0.000608  | 0.21145386 | 4.45558199 | 0                    | 0                        | 15 | 0.00406765               |\n",
    "| Passenger Cars | Diesel | Large-SUV-Executive | Euro 6 a/b/c  | DPF        | PM Exhaust |                | 10               | 130              | 0.0004673  | 0.0664095  | -0.3250106 | 0.96076264 | 1.13723866 | 0.54617955 | 0.28963315 | 0                    | 0                        | 15 | 0.0031787                |\n",
    "| Passenger Cars | Diesel | Large-SUV-Executive | Euro 6 d-temp | DPF        | PM Exhaust |                | 10               | 130              | 0.0004673  | 0.0664095  | -0.3250106 | 0.96076264 | 1.13723866 | 0.54617955 | 0.28963315 | 0                    | 0                        | 15 | 0.0031787                |\n",
    "| Passenger Cars | Diesel | Large-SUV-Executive | Euro 6 d      | DPF        | PM Exhaust |                | 10               | 130              | 0.0004673  | 0.0664095  | -0.3250106 | 0.96076264 | 1.13723866 | 0.54617955 | 0.28963315 | 0                    | 0                        | 15 | 0.0031787                |\n",
    "    </div>  \n",
    " </details>"
   ]
  },
  {
   "cell_type": "markdown",
   "metadata": {},
   "source": [
    "As far as I can tell, COPERT does some vehicle emission testing itself but testing vehicles for emissions is a regular part of motor manufacturing and maintenance. While some of it has a dodgy past (think dieselgate from VW https://www.telegraph.co.uk/finance/newsbysector/industry/11906842/Five-questions-about-the-VW-emissions-scandal-that-wont-go-away.html), there are more safeguards in place now. This is quite a nice read from a personal viewpoint by one 'concerned BBC journalist': https://www.bbc.co.uk/news/resources/idt-sh/how_toxic_is_your_car_exhaust\n",
    "<img style=\"float: right;\" src=\"images/mira.png\" alt=\"emissions testing\" width=\"360px\"/></p>"
   ]
  },
  {
   "cell_type": "markdown",
   "metadata": {},
   "source": [
    "### What we're going to do\n",
    "We're going to find all the terms in Equation 1 above to derive the emission factor $E_i$ for our default road system (the simple two intersecting roadways I mentioned earlier).  \n",
    "We'll find the total emissions factor $E F_i$ as a function of all the vehicle types in the COPERT database for PM and NOx using Equation 5.  \n",
    "Next we'll estimate how busy our road system is (you'll enter a number for $AADT$ and time of day (to take trffic congestion into account).  \n",
    "We then feed $E_i$ into RLINE and RLINE then calculates the ground-level concentration of PM and NOx at many different receptor sites.  That's all there is to it!  You can then do sensitivity analysis by changing eg the number of vehicles ($AADT$) on the road o the types of vehicle in the fleet mix (eg what would happen if petrol/diesel cars were largely abandined in favour of electric vehicles?)."
   ]
  },
  {
   "cell_type": "code",
   "execution_count": null,
   "metadata": {},
   "outputs": [],
   "source": [
    "# Create some selection boxes for the vehicle fleetmix\n",
    "fd = reftinterface()             # the view Class in MVC parlance effectively\n",
    "#print(fd.fleetmix_2020)         # just check its all there\n",
    "widgets.VBox(children=[fd.h1,fd.h2,fd.h3,fd.h4])"
   ]
  },
  {
   "cell_type": "code",
   "execution_count": null,
   "metadata": {},
   "outputs": [],
   "source": [
    "print(fd.fleetmix_2020)   \n",
    "# I like to print this out just to check all the input data is correct"
   ]
  },
  {
   "cell_type": "code",
   "execution_count": null,
   "metadata": {},
   "outputs": [],
   "source": [
    "# ... and some selection boxes for traffic conditions\n",
    "widgets.HBox([fd.bft_AADT, fd.bft_vs, fd.bft_hour])"
   ]
  },
  {
   "cell_type": "code",
   "execution_count": null,
   "metadata": {},
   "outputs": [],
   "source": [
    "# This cell actually calculates the emission inventory for any road taking\n",
    "# into account the % type of vehicles in the mix, the congestion,\n",
    "# traffic count, hour of day and average vehicle speed. SO - if you change\n",
    "# any of these options above (and you need to for this exercise), \n",
    "#\n",
    "# YOU NEED TO RE-RUN THIS CELL WHEN YOU CHANGE ANY OF THE INPUT DATA \n",
    "\n",
    "hwpme,hwnxe,traffic_count = efbvt.efbvt(fd.fleetmix_2020, fd.trafficstats, fd.TomTom_congestion)\n",
    "\n",
    "# Returns PM and NOx emission in units of g/m/s ready for input to RLINE\n",
    "# It does take a few seconds to run so be patient.\n",
    "\n",
    "# You'll see 3 lines of text output when the cell completes\n",
    "# The first line just confirms the traffic data you entered\n",
    "# The other two lines are the emission factor for PM and NOx for the road conditions\n",
    "# taking into account the fleetmix you chose earlier."
   ]
  },
  {
   "cell_type": "markdown",
   "metadata": {},
   "source": [
    "## Step 2: RUN the model\n",
    "Let's run these emissions through the model for 4 different conditions of atmospheric stability: very stable, stable, neutral and unstable. We're going to model the ground-level concentration (glc) across a 100 x 100 m domain with two main roads running at right angles to one another (in practice, you can have any geometry as we'll see later). <img style=\"float: right;\" src=\"images/ED3_site_st_leonards.png\" alt=\"St Leonards\" width=\"300px\"/></p>I've chosen to output glc's for PM and NOx at 4 sites, each within 20 m of the main intersection - to replicate what you might expect at say the St Leonard's monitoring site in Edinburgh,<img style=\"float: right;\" src=\"images/ED1_site_st_johns_road.png\" alt=\"St John Road\" width=\"300px\"/></p> rather than the site next to St John's Road in Edinburgh which is right on the pavement. (Have a look at Lecture 3 to see results from the commercial ADMS model and how quickly glc drops off from the road).\n"
   ]
  },
  {
   "cell_type": "code",
   "execution_count": null,
   "metadata": {},
   "outputs": [],
   "source": [
    "print(\"Click to run RLINE with the folllowing inputs: \",fd.trafficstats)\n",
    "print(\"It'll take a few seconds to run then you'll see a message to proceed to the next cell\")\n",
    "display(fd.btn)"
   ]
  },
  {
   "cell_type": "markdown",
   "metadata": {},
   "source": [
    "## Step 3: PLOT the results"
   ]
  },
  {
   "cell_type": "code",
   "execution_count": 7,
   "metadata": {
    "scrolled": true
   },
   "outputs": [
    {
     "name": "stdout",
     "output_type": "stream",
     "text": [
      "stable\n"
     ]
    },
    {
     "ename": "NameError",
     "evalue": "name 'hwpme' is not defined",
     "output_type": "error",
     "traceback": [
      "\u001b[0;31m---------------------------------------------------------------------------\u001b[0m",
      "\u001b[0;31mNameError\u001b[0m                                 Traceback (most recent call last)",
      "\u001b[0;32m<ipython-input-7-909e54c1707e>\u001b[0m in \u001b[0;36m<module>\u001b[0;34m\u001b[0m\n\u001b[1;32m     45\u001b[0m     \u001b[0mprint\u001b[0m\u001b[0;34m(\u001b[0m\u001b[0mstab\u001b[0m\u001b[0;34m)\u001b[0m\u001b[0;34m\u001b[0m\u001b[0;34m\u001b[0m\u001b[0m\n\u001b[1;32m     46\u001b[0m     \u001b[0;31m# Particulate matter\u001b[0m\u001b[0;34m\u001b[0m\u001b[0;34m\u001b[0m\u001b[0;34m\u001b[0m\u001b[0m\n\u001b[0;32m---> 47\u001b[0;31m     \u001b[0mzzp\u001b[0m \u001b[0;34m=\u001b[0m \u001b[0;34m(\u001b[0m\u001b[0mdfh\u001b[0m\u001b[0;34m[\u001b[0m\u001b[0;34m'C_G1'\u001b[0m\u001b[0;34m]\u001b[0m\u001b[0;34m*\u001b[0m\u001b[0mhwpme\u001b[0m\u001b[0;34m+\u001b[0m\u001b[0mdfh\u001b[0m\u001b[0;34m[\u001b[0m\u001b[0;34m'C_G2'\u001b[0m\u001b[0;34m]\u001b[0m\u001b[0;34m*\u001b[0m\u001b[0mhwpme\u001b[0m\u001b[0;34m)\u001b[0m\u001b[0;34m.\u001b[0m\u001b[0mto_numpy\u001b[0m\u001b[0;34m(\u001b[0m\u001b[0;34m)\u001b[0m\u001b[0;34m\u001b[0m\u001b[0;34m\u001b[0m\u001b[0m\n\u001b[0m\u001b[1;32m     48\u001b[0m     \u001b[0;31m# NOx\u001b[0m\u001b[0;34m\u001b[0m\u001b[0;34m\u001b[0m\u001b[0;34m\u001b[0m\u001b[0m\n\u001b[1;32m     49\u001b[0m     \u001b[0mzzn\u001b[0m \u001b[0;34m=\u001b[0m \u001b[0;34m(\u001b[0m\u001b[0mdfh\u001b[0m\u001b[0;34m[\u001b[0m\u001b[0;34m'C_G1'\u001b[0m\u001b[0;34m]\u001b[0m\u001b[0;34m*\u001b[0m\u001b[0mhwnxe\u001b[0m\u001b[0;34m+\u001b[0m\u001b[0mdfh\u001b[0m\u001b[0;34m[\u001b[0m\u001b[0;34m'C_G2'\u001b[0m\u001b[0;34m]\u001b[0m\u001b[0;34m*\u001b[0m\u001b[0mhwnxe\u001b[0m\u001b[0;34m)\u001b[0m\u001b[0;34m.\u001b[0m\u001b[0mto_numpy\u001b[0m\u001b[0;34m(\u001b[0m\u001b[0;34m)\u001b[0m\u001b[0;34m\u001b[0m\u001b[0;34m\u001b[0m\u001b[0m\n",
      "\u001b[0;31mNameError\u001b[0m: name 'hwpme' is not defined"
     ]
    }
   ],
   "source": [
    "#rplot.plotrw()\n",
    "sites = []\n",
    "max = min = 0\n",
    "gs = gridspec.GridSpec(4, 4)\n",
    "gs.update(left=0.10, right=0.95, hspace=0.05)\n",
    "hourly_stab = ['stable','weakly stable','weakly convective','convective']\n",
    "sitenames = ['site 1','site 2','site 3','site 4']\n",
    "infilename = 'Output_Example_Numerical.csv'\n",
    "infilename2 = 'Met_Example.csv'   \n",
    "# use Pandas to read in concentration data\n",
    "dfc=pd.read_csv(infilename, header=10, skipinitialspace=True)\n",
    "#print(dfc)\n",
    "# use Pandas to read in meteorology data\n",
    "dfm=pd.read_csv(infilename2, skip_blank_lines=True, skipinitialspace=True)\n",
    "#dfm.head(4)\n",
    "# NB - RLINE has calculated the concentrations based on unit emission\n",
    "# so we need to multiply the predicted concentrations by the actual emissions\n",
    "hourlist=[]\n",
    "methourlist=[]\n",
    "# Split into hourly dataframes for graphing\n",
    "# https://stackoverflow.com/questions/54046707/pandas-split-one-dataframe-into-multiple-dataframes\n",
    "for h in dfc['Hour'].unique():\n",
    "    temp = 'dfc_{}'.format(h)\n",
    "    #hourlist.append(temp)  # keep track of data files to process\n",
    "    vars()[temp] = dfc[dfc['Hour']==h]\n",
    "\n",
    "hourlist=[dfc_1, dfc_2, dfc_3, dfc_4]\n",
    "\n",
    "for h in dfm['Hour'].unique():\n",
    "    temp = 'dfm_{}'.format(h)  \n",
    "    vars()[temp] = dfm[dfm['Hour']==h]\n",
    "\n",
    "methourlist=[dfm_1, dfm_2, dfm_3, dfm_4]\n",
    "\n",
    "i=0 \n",
    "# extract the x, y, z-values to 1-D arrays for plotting\n",
    "xx = dfc_1['X-Coordinate'].to_numpy()\n",
    "yy = dfc_1['Y-Coordinate'].to_numpy()\n",
    "siteinfo = pd.DataFrame(sitenames)\n",
    "    \n",
    "for dfhn in hourlist:\n",
    "    dfh = pd.DataFrame(dfhn)\n",
    "    hour=i\n",
    "    stab=hourly_stab[i]\n",
    "    print(stab)\n",
    "    # Particulate matter\n",
    "    zzp = (dfh['C_G1']*hwpme+dfh['C_G2']*hwpme).to_numpy()\n",
    "    # NOx\n",
    "    zzn = (dfh['C_G1']*hwnxe+dfh['C_G2']*hwnxe).to_numpy()\n",
    "\n",
    "    max = (dfh['C_G1']*hwpme+dfh['C_G2']*hwpme).max()\n",
    "    min = (dfh['C_G1']*hwpme+dfh['C_G2']*hwpme).min()\n",
    "\n",
    "    # get the concentration values at the 4 receptor sites\n",
    "    dfs1 = dfh[((dfh['X-Coordinate'] == 20.000) & (dfh['Y-Coordinate'] == 20.000))]\n",
    "    dfs2 = dfh[((dfh['X-Coordinate'] == 20.000) & (dfh['Y-Coordinate'] == -20.000))]\n",
    "    dfs3 = dfh[((dfh['X-Coordinate'] == -20.000) & (dfh['Y-Coordinate'] == -20.000))]\n",
    "    dfs4 = dfh[((dfh['X-Coordinate'] == -20.000) & (dfh['Y-Coordinate'] == 20.000))]\n",
    "    # Get the concentration values at the 4 receptor sites\n",
    "    # Particulates first\n",
    "    s1zp = dfs1.iloc[0]['C_G1']*hwpme+dfs1.iloc[0]['C_G2']*hwpme\n",
    "    s2zp = dfs2.iloc[0]['C_G1']*hwpme+dfs2.iloc[0]['C_G2']*hwpme\n",
    "    s3zp = dfs3.iloc[0]['C_G1']*hwpme+dfs3.iloc[0]['C_G2']*hwpme\n",
    "    s4zp = dfs4.iloc[0]['C_G1']*hwpme+dfs4.iloc[0]['C_G2']*hwpme\n",
    "    # Next NOx\n",
    "    s1zn = dfs1.iloc[0]['C_G1']*hwnxe+dfs1.iloc[0]['C_G2']*hwnxe\n",
    "    s2zn = dfs2.iloc[0]['C_G1']*hwnxe+dfs2.iloc[0]['C_G2']*hwnxe\n",
    "    s3zn = dfs3.iloc[0]['C_G1']*hwnxe+dfs3.iloc[0]['C_G2']*hwnxe\n",
    "    s4zn = dfs4.iloc[0]['C_G1']*hwnxe+dfs4.iloc[0]['C_G2']*hwnxe\n",
    "    \n",
    "    sitesp = [s1zp, s2zp, s3zp, s4zp]\n",
    "    sitesn = [s1zn, s2zn, s3zn, s4zn]\n",
    "    # Put the Conc data into a Pandas DataFrame so you can display it\n",
    "    siteinfo = pd.DataFrame(index=sitenames)\n",
    "    siteinfo['PM'] = sitesp\n",
    "    siteinfo['NOx'] = sitesn\n",
    "    siteinfo['PM'] = pd.Series([np.round(val, 2) for val in siteinfo['PM']], index = siteinfo.index)\n",
    "    siteinfo['NOx'] = pd.Series([np.round(val, 2) for val in siteinfo['NOx']], index = siteinfo.index)\n",
    "    print(siteinfo)\n",
    "    # pass to plotting routine\n",
    "    pls.pls(gs, xx, yy, zzp, hour, min, max, methourlist[i], sitesp, stab)\n",
    "    i=i+1\n",
    "    print('-----------------------------------------------------')"
   ]
  },
  {
   "cell_type": "markdown",
   "metadata": {},
   "source": [
    "You'll notice the dispersion patterns look similar since wind direction largely controls the pullutant here given the source height (the vehicle exhaust is low and similar'ish acrosss the vehicle fleet). The actual values of ground-level concentration do vary markedly of course in the different stability conditions."
   ]
  },
  {
   "cell_type": "markdown",
   "metadata": {},
   "source": [
    "RLINE has been developed by the US Environmental Protection Agency to investigate air quality near roads. There is a web-based version - called CLINE - which runs for much of the whole of the USA (not the Rest of the World unfortunately) but these web pages show just how powerful a tool CLINE is: https://www.cmascenter.org/c-tools/"
   ]
  },
  {
   "cell_type": "code",
   "execution_count": 6,
   "metadata": {},
   "outputs": [
    {
     "data": {
      "text/html": [
       "\n",
       "        <iframe\n",
       "            width=\"800\"\n",
       "            height=\"600\"\n",
       "            src=\"https://www.youtube.com/embed/https://youtu.be/iY-PBXd_0sM\"\n",
       "            frameborder=\"0\"\n",
       "            allowfullscreen\n",
       "        ></iframe>\n",
       "        "
      ],
      "text/plain": [
       "<IPython.lib.display.YouTubeVideo at 0x7ffb8de58a90>"
      ]
     },
     "execution_count": 6,
     "metadata": {},
     "output_type": "execute_result"
    }
   ],
   "source": [
    "ytv.display_yotube_video(\"https://youtu.be/iY-PBXd_0sM\", width=800, height=600)\n",
    "# If you have any trouble watching this youtu=be vide, you can go to it directly: \n",
    "# https://www.cmascenter.org/c-tools/ "
   ]
  },
  {
   "cell_type": "markdown",
   "metadata": {},
   "source": [
    "<img style=\"float: center;\" src=\"images/urban_rural_scape.png\" alt=\"urban\" width=\"1100px\"/>"
   ]
  },
  {
   "cell_type": "code",
   "execution_count": null,
   "metadata": {},
   "outputs": [],
   "source": []
  },
  {
   "cell_type": "markdown",
   "metadata": {},
   "source": [
    "# END"
   ]
  },
  {
   "cell_type": "markdown",
   "metadata": {},
   "source": []
  }
 ],
 "metadata": {
  "kernelspec": {
   "display_name": "Python 3",
   "language": "python",
   "name": "python3"
  },
  "language_info": {
   "codemirror_mode": {
    "name": "ipython",
    "version": 3
   },
   "file_extension": ".py",
   "mimetype": "text/x-python",
   "name": "python",
   "nbconvert_exporter": "python",
   "pygments_lexer": "ipython3",
   "version": "3.8.6"
  }
 },
 "nbformat": 4,
 "nbformat_minor": 4
}
