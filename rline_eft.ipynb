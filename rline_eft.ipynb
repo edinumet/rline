{
 "cells": [
  {
   "cell_type": "markdown",
   "metadata": {},
   "source": [
    "<img style=\"float: left;\" src=\"images/EP_Logo.png\" alt=\"UoE\" width=\"300px\"/>\n",
    "<img style=\"float: right;\" src=\"images/UoE_Logo.png\" alt=\"UoE\" width=\"300px\"/>\n",
    "<img style=\"float: center;\" src=\"images/urban_rural_scape.png\" alt=\"urban\" width=\"1100px\"/>"
   ]
  },
  {
   "cell_type": "markdown",
   "metadata": {},
   "source": [
    "# Modelling emissions from road traffic\n",
    "<img style=\"float: right;\" src=\"images/car-exhaust.png\" alt=\"smoky car\" width=\"240px\"/></p>\n",
    " \n",
    "Jupyter notebook for ECSC09005 Environmental Pollution  \n",
    "author: John Moncrieff *for* Session 2020-21  [version 0.14, latest 11:06, 1 Feb 2021]\n",
    "## Background\n",
    "Modelling polutant dispersal from fixed point and area sources by the gaussian plume model is obvious but how do we model vehicle emissions from traffic flowing along a road? We just adapt the gaussian plume model by effectively replicating point sources along the roadway and running individual gaussian plume models at each of these points. This is known as a line source model. In this exercise, we will use a line source model called *RLine* from  the US Environmnental Protection Agency. This model has been well used for many years and is used for all sorts of regulatory purposes in the USA. You can read more about RLine at the US EPA's web site - https://www.cmascenter.org/r-line/. You used the UK's DMRB screening model to look at traffic emissions; RLINE is a step up in complexity and realism.\n",
    "\n",
    "What I want you to get out of RLine is an appreciation for how emissions from the vehicle fleet is influenced by wind speed, atmospheric stability and wind direction and how that dictates local air quality.\n",
    "\n",
    "## Imports\n",
    "Let's start by importing some libraries to the environment:\n",
    "- *matplotlib inline* for creating inline plots\n",
    "- *pandas* to order and sort data in a convenient Table-like format\n",
    "- *numpy* for numerical routines\n",
    "- *matplotlib* for plotting data\n",
    "- *scipy* for interploation routines\n",
    "- *tqdm* for timing progress bar \n",
    "- *subprocess* so we can run RLine which is written in FORTRAN\n",
    "- *ipywidgets* for interactivity\n",
    "- *defins* for python code that just takes up space in the main notebook"
   ]
  },
  {
   "cell_type": "code",
   "execution_count": 1,
   "metadata": {},
   "outputs": [
    {
     "name": "stdout",
     "output_type": "stream",
     "text": [
      "Imports loaded - continue\n"
     ]
    }
   ],
   "source": [
    "%matplotlib inline\n",
    "import pandas as pd\n",
    "import numpy as np\n",
    "import matplotlib.pyplot as plt\n",
    "from scipy.interpolate import griddata\n",
    "import matplotlib.gridspec as gridspec\n",
    "import sys\n",
    "import math\n",
    "import tqdm as tqdm\n",
    "import subprocess\n",
    "import os\n",
    "from ipywidgets import interact, interactive, fixed, interact_manual\n",
    "import ipywidgets as widgets\n",
    "from IPython.display import display\n",
    "from ipywidgets import HBox, Label\n",
    "from src import efbvt, rplot, pls\n",
    "from src.reftinterface import reftinterface\n",
    "print('Imports loaded - continue')"
   ]
  },
  {
   "cell_type": "markdown",
   "metadata": {},
   "source": [
    "## Step 1: Get the emissions inventory"
   ]
  },
  {
   "cell_type": "markdown",
   "metadata": {},
   "source": [
    "As we discussed in the lecture series, we need 3 pieces of information to perform a dispersion modelling exercise: weather conditions, an emissions inventory and a dispersion model. <img style=\"float: right;\" src=\"images/dm.png\" alt=\"dispersion model process\" width=\"450px\"/></p>In this exercise, we'll just assume 4 different atmospheric stabilities and use a dispersion model called RLINE which models emissions from traffic. The emissions inventory we will use is derived from vehicle tests under different traffic scenarios and on different road types. It can get a bit complicated to come up with vehicle emissions that are then fed into the dispersion model. <br/><br/>We use a methodology which has been well-documented. I'll give you a flavour of what is involved but the detail can be a bit overwhelming - quite often users in the UK use an Excel-based system called the 'Emissions Factor Toolkit' (https://laqm.defra.gov.uk/review-and-assessment/tools/emissions-factors-toolkit.html and operates rather like the DMRB screening model you used in the practical exercise) but we've found that this no longer seems to be compatible with macs (at least in GeoSciences - it works on Windows PCs) in particular so I've coded it up into python for this exercise (my python code is imported here but if you want to view it, its in the file you downloaded from GitHub)."
   ]
  },
  {
   "cell_type": "markdown",
   "metadata": {},
   "source": [
    "The total emission factors ($EF_i$) and traffic activity ($A_i$) inputs are combined to create hourly emissions, ($E_i$) for each roadlink ($i$) in the area we are modelling.\n",
    "$E_i = EF_i \\ A_i \\tag{1} $\n",
    "> where:    \n",
    "$E F_i = \\sum_{vehclass} ef_i (pollutant, speed, month, temp) \\ fleetmix(vehclass) \\tag{2}$<br/><br/>\n",
    "$A_i = AADT_i \\ TAF_i (hour, day, month) \\tag{3} $\n",
    "\n",
    "\n",
    "The concentration ($C$) at any location is given by $C = \\sum_i E_i \\ X_i \\ \\tag{4}$ where $X_i$ is the dispersion from each road link, $i$ to each receptor generated by RLINE with unit emission rate. $AADT_i$ is the annual average daily traffic; $TAF_i$ is the Temporal Allocation Factor ie congestion. "
   ]
  },
  {
   "cell_type": "markdown",
   "metadata": {},
   "source": [
    "### Sources of emission data for vehicles\n",
    "\n",
    "In the EU, testing and reporting of vehicle emissions is reported via a service known as COPERT - the DMRB model you used previously uses data from COPERT as input for its calculations (in DMRB you just don't see this level of detail since its a screening model after all). COPERT produces spreadsheets of emission data for >60  vehicle types in Europe and these sheets are organised by vehicle sector (eg passenger cars, articulated lorries, buses etc) and emisisons are given in terms of a polynomial fit to measured emissions tests as a function of speed. Equation 5 below is such an equation. For this model, I've taken one of the COPERT spreadsheets that refers to 2020 emissions and coded the emissions as a function of vehicle type and vehicle speed. This creates the emission inventory we then feed into the RLINE model. The link to COPERT if you want to follow any of this for yourself (and its NOT required for this exercise) is https://www.emisia.com/utilities/copert/  <br></br>\n",
    "Equation 5 is the polynomial fit for all vehicle types (where $\\alpha, \\beta, \\gamma, \\delta, \\epsilon, \\zeta$ and $\\eta$ are different for each vehicle type and $v$ is the vehicle speed. RF is an adjustment factor, usually small.\n",
    "\n",
    "$EF = \\Large \\frac{(\\alpha v^2 + \\beta v + \\gamma + \\delta /v)}{(\\epsilon v^2 + \\zeta v + \\eta)} \\large (1-RF) \\tag{5}$"
   ]
  },
  {
   "cell_type": "markdown",
   "metadata": {},
   "source": [
    "<details>  \n",
    "<summary markdown=\"span\">If you REALLY want to see what a tiny part of one of the input spreadsheets to this program is, click to expand!</summary>\n",
    "    \n",
    "<div class=\"alert alert-block alert-info\">\n",
    "    \n",
    "|    Category    |  Fuel  |       Segment       | Euro Standard | Technology |  Pollutant |      Mode      | Min Speed [km/h] | Max Speed [km/h] |    Alpha   |    Beta    |    Gamma   |    Delta   |   Epsilon  |    Zita    |     Hta    | Reduction Factor [%] | Bio Reduction Factor [%] | 15 | EF [g/km] or ECF [MJ/km] |\n",
    "|:--------------:|:------:|:-------------------:|:-------------:|:----------:|:----------:|:--------------:|:----------------:|:----------------:|:----------:|:----------:|:----------:|:----------:|:----------:|:----------:|:----------:|:--------------------:|:------------------------:|:--:|:------------------------:|\n",
    "| Passenger Cars | Petrol | Large-SUV-Executive | Euro 4        | GDI        | PM Exhaust | Urban Peak     | 10               | 130              | 0          | 0          | 0.00128    | 0          | 0          | 0          | 1          | 0                    | 0                        | 15 | 0.00128                  |\n",
    "| Passenger Cars | Petrol | Large-SUV-Executive | Euro 4        | GDI        | PM Exhaust | Urban Off Peak | 10               | 130              | 0          | 0          | 0.00128    | 0          | 0          | 0          | 1          | 0                    | 0                        | 15 | 0.00128                  |\n",
    "| Passenger Cars | Petrol | Large-SUV-Executive | Euro 4        | GDI        | PM Exhaust | Rural          | 10               | 130              | 0          | 0          | 0.000836   | 0          | 0          | 0          | 1          | 0                    | 0                        | 15 | 0.000836                 |\n",
    "| Passenger Cars | Petrol | Large-SUV-Executive | Euro 4        | GDI        | PM Exhaust | Highway        | 10               | 130              | 0          | 0          | 0.00119    | 0          | 0          | 0          | 1          | 0                    | 0                        | 15 | 0.00119                  |\n",
    "| Passenger Cars | Petrol | Large-SUV-Executive | Euro 4        | PFI        | PM Exhaust | Urban Peak     | 10               | 130              | 0          | 0          | 0.00128    | 0          | 0          | 0          | 1          | 0                    | 0                        | 15 | 0.00128                  |\n",
    "| Passenger Cars | Petrol | Large-SUV-Executive | Euro 4        | PFI        | PM Exhaust | Urban Off Peak | 10               | 130              | 0          | 0          | 0.00128    | 0          | 0          | 0          | 1          | 0                    | 0                        | 15 | 0.00128                  |\n",
    "| Passenger Cars | Petrol | Large-SUV-Executive | Euro 4        | PFI        | PM Exhaust | Rural          | 10               | 130              | 0          | 0          | 0.000836   | 0          | 0          | 0          | 1          | 0                    | 0                        | 15 | 0.000836                 |\n",
    "| Passenger Cars | Petrol | Large-SUV-Executive | Euro 4        | PFI        | PM Exhaust | Highway        | 10               | 130              | 0          | 0          | 0.00119    | 0          | 0          | 0          | 1          | 0                    | 0                        | 15 | 0.00119                  |\n",
    "| Passenger Cars | Petrol | Large-SUV-Executive | Euro 5        | GDI        | PM Exhaust |                | 10               | 130              | 5.7274E-07 | -0.0001259 | 0.00690719 | 0.06422941 | 0.00032976 | -0.0877664 | 6.01192129 | 0                    | 0                        | 15 | 0.00197701               |\n",
    "| Passenger Cars | Petrol | Large-SUV-Executive | Euro 5        | PFI        | PM Exhaust |                | 10               | 130              | 5.7274E-07 | -0.0001259 | 0.00690719 | 0.06422941 | 0.00032976 | -0.0877664 | 6.01192129 | 0                    | 0                        | 15 | 0.00197701               |\n",
    "| Passenger Cars | Petrol | Large-SUV-Executive | Euro 6 a/b/c  | GDI        | PM Exhaust |                | 10               | 130              | 7.3573E-07 | -0.0001581 | 0.00928471 | 0.04108643 | 0.00026877 | -0.077925  | 6.02105323 | 0                    | 0                        | 15 | 0.00199838               |\n",
    "| Passenger Cars | Petrol | Large-SUV-Executive | Euro 6 a/b/c  | PFI        | PM Exhaust |                | 10               | 130              | 7.3573E-07 | -0.0001581 | 0.00928471 | 0.04108643 | 0.00026877 | -0.077925  | 6.02105323 | 0                    | 0                        | 15 | 0.00199838               |\n",
    "| Passenger Cars | Petrol | Large-SUV-Executive | Euro 6 d-temp | GDI        | PM Exhaust |                | 10               | 130              | 5.5963E-07 | -0.0001169 | 0.00745951 | 0.00740175 | 9.3328E-05 | -0.0348877 | 3.5051065  | 0.5                  | 0                        | 15 | 0.00105318               |\n",
    "| Passenger Cars | Petrol | Large-SUV-Executive | Euro 6 d-temp | PFI        | PM Exhaust |                | 10               | 130              | 5.5963E-07 | -0.0001169 | 0.00745951 | 0.00740175 | 9.3328E-05 | -0.0348877 | 3.5051065  | 0.5                  | 0                        | 15 | 0.00105318               |\n",
    "| Passenger Cars | Petrol | Large-SUV-Executive | Euro 6 d      | GDI        | PM Exhaust |                | 10               | 130              | 5.5963E-07 | -0.0001169 | 0.00745951 | 0.00740175 | 9.3328E-05 | -0.0348877 | 3.5051065  | 0.5                  | 0                        | 15 | 0.00105318               |\n",
    "| Passenger Cars | Petrol | Large-SUV-Executive | Euro 6 d      | PFI        | PM Exhaust |                | 10               | 130              | 5.5963E-07 | -0.0001169 | 0.00745951 | 0.00740175 | 9.3328E-05 | -0.0348877 | 3.5051065  | 0.5                  | 0                        | 15 | 0.00105318               |\n",
    "| Passenger Cars | Diesel | Large-SUV-Executive | Euro 4        | DPF        | PM Exhaust |                | 10               | 130              | 1.1723E-05 | -0.0018157 | 0.15159145 | 2.443E-14  | -4.455E-18 | -3.28E-15  | 3.36869884 | 0                    | 0                        | 15 | 0.037698                 |\n",
    "| Passenger Cars | Diesel | Large-SUV-Executive | Euro 5        | DPF        | PM Exhaust |                | 10               | 130              | -2.689E-07 | 7.5661E-05 | 0.02388406 | 0.08265939 | -0.000608  | 0.21145386 | 4.45558199 | 0                    | 0                        | 15 | 0.00406765               |\n",
    "| Passenger Cars | Diesel | Large-SUV-Executive | Euro 6 a/b/c  | DPF        | PM Exhaust |                | 10               | 130              | 0.0004673  | 0.0664095  | -0.3250106 | 0.96076264 | 1.13723866 | 0.54617955 | 0.28963315 | 0                    | 0                        | 15 | 0.0031787                |\n",
    "| Passenger Cars | Diesel | Large-SUV-Executive | Euro 6 d-temp | DPF        | PM Exhaust |                | 10               | 130              | 0.0004673  | 0.0664095  | -0.3250106 | 0.96076264 | 1.13723866 | 0.54617955 | 0.28963315 | 0                    | 0                        | 15 | 0.0031787                |\n",
    "| Passenger Cars | Diesel | Large-SUV-Executive | Euro 6 d      | DPF        | PM Exhaust |                | 10               | 130              | 0.0004673  | 0.0664095  | -0.3250106 | 0.96076264 | 1.13723866 | 0.54617955 | 0.28963315 | 0                    | 0                        | 15 | 0.0031787                |\n",
    "    </div>  \n",
    " </details>"
   ]
  },
  {
   "cell_type": "markdown",
   "metadata": {},
   "source": [
    "As far as I can tell, COPERT does some vehicle emission testing itself but testing vehicles for emissions is a regular part of motor manufacturing and maintenance. While some of it has a dodgy past (think dieselgate from VW https://www.telegraph.co.uk/finance/newsbysector/industry/11906842/Five-questions-about-the-VW-emissions-scandal-that-wont-go-away.html), there are more safeguards in place now. This is quite a nice read from a personal viewpoint by one 'concerned BBC journalist': https://www.bbc.co.uk/news/resources/idt-sh/how_toxic_is_your_car_exhaust\n",
    "<img style=\"float: right;\" src=\"images/mira.png\" alt=\"emissions testing\" width=\"360px\"/></p>"
   ]
  },
  {
   "cell_type": "markdown",
   "metadata": {},
   "source": [
    "### What we're going to do\n",
    "We're going to find all the terms in Equation 1 above to derive the emission factor $E_i$ for our default road system (the simple two intersecting roadways I mentioned earlier).  \n",
    "We'll find the total emissions factor $E F_i$ as a function of all the vehicle types in the COPERT database for PM and NOx using Equation 5.  \n",
    "Next we'll estimate how busy our road system is (you'll enter a number for $AADT$ and time of day (to take trffic congestion into account).  \n",
    "We then feed $E_i$ into RLINE and RLINE then calculates the ground-level concentration of PM and NOx at many different receptor sites.  That's all there is to it!  You can then do sensitivity analysis by changing eg the number of vehicles ($AADT$) on the road o the types of vehicle in the fleet mix (eg what would happen if petrol/diesel cars were largely abandined in favour of electric vehicles?)."
   ]
  },
  {
   "cell_type": "code",
   "execution_count": 2,
   "metadata": {},
   "outputs": [
    {
     "data": {
      "application/vnd.jupyter.widget-view+json": {
       "model_id": "609d24cb0c534ea79916c9a2f4320b2f",
       "version_major": 2,
       "version_minor": 0
      },
      "text/plain": [
       "VBox(children=(HBox(children=(BoundedFloatText(value=0.5, description='electric %', max=90.0, min=0.1, step=1.…"
      ]
     },
     "metadata": {},
     "output_type": "display_data"
    }
   ],
   "source": [
    "# Create some selection boxes for the vehicle fleetmix\n",
    "fd = reftinterface()             # the view Class in MVC parlance effectively\n",
    "#print(fd.fleetmix_2020)         # just check its all there\n",
    "widgets.VBox(children=[fd.h1,fd.h2,fd.h3,fd.h4])"
   ]
  },
  {
   "cell_type": "code",
   "execution_count": 3,
   "metadata": {},
   "outputs": [
    {
     "name": "stdout",
     "output_type": "stream",
     "text": [
      "{'electric': 0.5, 'petrol': 47.8, 'diesel': 33.1, 'petrol_lgv': 0.4, 'diesel_lgv': 15.0, 'rigid': 0.9, 'artic': 0.4, 'biodiesel': 0.1, 'buses': 0.7, 'motorcycle': 1.1}\n"
     ]
    }
   ],
   "source": [
    "print(fd.fleetmix_2020)   \n",
    "# I like to print this out just to check all the input data is correct"
   ]
  },
  {
   "cell_type": "code",
   "execution_count": 4,
   "metadata": {},
   "outputs": [
    {
     "data": {
      "application/vnd.jupyter.widget-view+json": {
       "model_id": "321c10ce88334807b38949635fcdfc10",
       "version_major": 2,
       "version_minor": 0
      },
      "text/plain": [
       "HBox(children=(BoundedIntText(value=10000, description='AADT', max=55000, min=1000, step=1000), BoundedIntText…"
      ]
     },
     "metadata": {},
     "output_type": "display_data"
    }
   ],
   "source": [
    "# ... and some selection boxes for traffic conditions\n",
    "widgets.HBox([fd.bft_AADT, fd.bft_vs, fd.bft_hour])"
   ]
  },
  {
   "cell_type": "code",
   "execution_count": 5,
   "metadata": {},
   "outputs": [
    {
     "name": "stdout",
     "output_type": "stream",
     "text": [
      "Traffic count = 10000  per day, Vehicle speed = 15, Time of day = 12\n",
      "PM Emission (g/m/s) =  [1.44303544e-05]\n",
      "NOx Emission (g/m/s) =  [0.00027263]\n"
     ]
    }
   ],
   "source": [
    "# This cell actually calculates the emission inventory for any road taking\n",
    "# into account the % type of vehicles in the mix, the congestion,\n",
    "# traffic count, hour of day and average vehicle speed. SO - if you change\n",
    "# any of these options above (and you need to for this exercise), \n",
    "#\n",
    "# YOU NEED TO RE-RUN THIS CELL WHEN YOU CHANGE ANY OF THE INPUT DATA \n",
    "\n",
    "hwpme,hwnxe,traffic_count = efbvt.efbvt(fd.fleetmix_2020, fd.trafficstats, fd.TomTom_congestion)\n",
    "\n",
    "# Returns PM and NOx emission in units of g/m/s ready for input to RLINE\n",
    "# It does take a few seconds to run so be patient.\n",
    "\n",
    "# You'll see 3 lines of text output when the cell completes\n",
    "# The first line just confirms the traffic data you entered\n",
    "# The other two lines are the emission factor for PM and NOx for the road conditions\n",
    "# taking into account the fleetmix you chose earlier."
   ]
  },
  {
   "cell_type": "markdown",
   "metadata": {},
   "source": [
    "## Step 2: RUN the model\n",
    "Let's run these emissions through the model for 4 different conditions of atmospheric stability: very stable, stable, neutral and unstable. We're going to model the ground-level concentration (glc) across a 100 x 100 m domain with two main roads running at right angles to one another (in practice, you can have any geometry as we'll see later). <img style=\"float: right;\" src=\"images/ED3_site_st_leonards.png\" alt=\"St Leonards\" width=\"300px\"/></p>I've chosen to output glc's for PM and NOx at 4 sites, each within 20 m of the main intersection - to replicate what you might expect at say the St Leonard's monitoring site in Edinburgh,<img style=\"float: right;\" src=\"images/ED1_site_st_johns_road.png\" alt=\"St John Road\" width=\"300px\"/></p> rather than the site next to St John's Road in Edinburgh which is right on the pavement. (Have a look at Lecture 3 to see results from the commercial ADMS model and how quickly glc drops off from the road).\n"
   ]
  },
  {
   "cell_type": "code",
   "execution_count": 7,
   "metadata": {},
   "outputs": [
    {
     "name": "stdout",
     "output_type": "stream",
     "text": [
      "Click to run RLINE with the folllowing inputs:  {'AADT': 10000, 'hour': 12, 'vs': 15}\n",
      "It'll take a few seconds to run then you'll see a message to proceed to the next cell\n"
     ]
    },
    {
     "data": {
      "application/vnd.jupyter.widget-view+json": {
       "model_id": "c85aba246b294098893e79c0f8636c63",
       "version_major": 2,
       "version_minor": 0
      },
      "text/plain": [
       "Button(description='Run RLINE', style=ButtonStyle(button_color='tomato'))"
      ]
     },
     "metadata": {},
     "output_type": "display_data"
    }
   ],
   "source": [
    "print(\"Click to run RLINE with the folllowing inputs: \",fd.trafficstats)\n",
    "print(\"It'll take a few seconds to run then you'll see a message to proceed to the next cell\")\n",
    "display(fd.btn)"
   ]
  },
  {
   "cell_type": "markdown",
   "metadata": {},
   "source": [
    "## Step 3: PLOT the results"
   ]
  },
  {
   "cell_type": "code",
   "execution_count": 8,
   "metadata": {},
   "outputs": [
    {
     "name": "stdout",
     "output_type": "stream",
     "text": [
      "dfc_1\n",
      "['dfc_1']\n"
     ]
    },
    {
     "ename": "NameError",
     "evalue": "name 'dfc_1' is not defined",
     "output_type": "error",
     "traceback": [
      "\u001b[0;31m---------------------------------------------------------------------------\u001b[0m",
      "\u001b[0;31mNameError\u001b[0m                                 Traceback (most recent call last)",
      "\u001b[0;32m<ipython-input-8-34af8357e0fa>\u001b[0m in \u001b[0;36m<module>\u001b[0;34m\u001b[0m\n\u001b[0;32m----> 1\u001b[0;31m \u001b[0mrplot\u001b[0m\u001b[0;34m.\u001b[0m\u001b[0mplotrw\u001b[0m\u001b[0;34m(\u001b[0m\u001b[0;34m)\u001b[0m\u001b[0;34m\u001b[0m\u001b[0;34m\u001b[0m\u001b[0m\n\u001b[0m",
      "\u001b[0;32m~/ownCloud/DocSyncUoE/Software/python/jupyter/rline_jn/src/rplot.py\u001b[0m in \u001b[0;36mplotrw\u001b[0;34m()\u001b[0m\n\u001b[1;32m     41\u001b[0m         \u001b[0mvars\u001b[0m\u001b[0;34m(\u001b[0m\u001b[0;34m)\u001b[0m\u001b[0;34m[\u001b[0m\u001b[0mtemp\u001b[0m\u001b[0;34m]\u001b[0m \u001b[0;34m=\u001b[0m \u001b[0mdfc\u001b[0m\u001b[0;34m[\u001b[0m\u001b[0mdfc\u001b[0m\u001b[0;34m[\u001b[0m\u001b[0;34m'Hour'\u001b[0m\u001b[0;34m]\u001b[0m\u001b[0;34m==\u001b[0m\u001b[0mh\u001b[0m\u001b[0;34m]\u001b[0m\u001b[0;34m\u001b[0m\u001b[0;34m\u001b[0m\u001b[0m\n\u001b[1;32m     42\u001b[0m         \u001b[0mprint\u001b[0m\u001b[0;34m(\u001b[0m\u001b[0mhourlist\u001b[0m\u001b[0;34m)\u001b[0m\u001b[0;34m\u001b[0m\u001b[0;34m\u001b[0m\u001b[0m\n\u001b[0;32m---> 43\u001b[0;31m         \u001b[0mprint\u001b[0m\u001b[0;34m(\u001b[0m\u001b[0mdfc_1\u001b[0m\u001b[0;34m)\u001b[0m\u001b[0;34m\u001b[0m\u001b[0;34m\u001b[0m\u001b[0m\n\u001b[0m\u001b[1;32m     44\u001b[0m     \u001b[0mhourlist\u001b[0m\u001b[0;34m=\u001b[0m\u001b[0;34m[\u001b[0m\u001b[0mdfc_1\u001b[0m\u001b[0;34m,\u001b[0m \u001b[0mdfc_2\u001b[0m\u001b[0;34m,\u001b[0m \u001b[0mdfc_3\u001b[0m\u001b[0;34m,\u001b[0m \u001b[0mdfc_4\u001b[0m\u001b[0;34m]\u001b[0m\u001b[0;34m\u001b[0m\u001b[0;34m\u001b[0m\u001b[0m\n\u001b[1;32m     45\u001b[0m \u001b[0;34m\u001b[0m\u001b[0m\n",
      "\u001b[0;31mNameError\u001b[0m: name 'dfc_1' is not defined"
     ]
    }
   ],
   "source": [
    "rplot.plotrw()"
   ]
  },
  {
   "cell_type": "markdown",
   "metadata": {},
   "source": [
    "You'll notice the dispersion patterns look similar since wind direction largely controls the pullutant here given the source height (the vehicle exhaust is low and similar'ish acrosss the vehicle fleet). The actual values of ground-level concentration do vary markedly of course in the different stability conditions."
   ]
  },
  {
   "cell_type": "markdown",
   "metadata": {},
   "source": [
    "<img style=\"float: center;\" src=\"images/urban_rural_scape.png\" alt=\"urban\" width=\"1100px\"/>"
   ]
  },
  {
   "cell_type": "code",
   "execution_count": null,
   "metadata": {},
   "outputs": [],
   "source": []
  },
  {
   "cell_type": "code",
   "execution_count": null,
   "metadata": {},
   "outputs": [],
   "source": []
  },
  {
   "cell_type": "code",
   "execution_count": null,
   "metadata": {},
   "outputs": [],
   "source": []
  },
  {
   "cell_type": "markdown",
   "metadata": {},
   "source": [
    "# END"
   ]
  },
  {
   "cell_type": "markdown",
   "metadata": {},
   "source": []
  }
 ],
 "metadata": {
  "kernelspec": {
   "display_name": "Python 3",
   "language": "python",
   "name": "python3"
  },
  "language_info": {
   "codemirror_mode": {
    "name": "ipython",
    "version": 3
   },
   "file_extension": ".py",
   "mimetype": "text/x-python",
   "name": "python",
   "nbconvert_exporter": "python",
   "pygments_lexer": "ipython3",
   "version": "3.8.6"
  }
 },
 "nbformat": 4,
 "nbformat_minor": 4
}
