{
 "cells": [
  {
   "cell_type": "markdown",
   "metadata": {},
   "source": [
    "<img style=\"float: left;\" src=\"PSU_Logo.png\" alt=\"UoE\" width=\"200px\"/>\n",
    "<img style=\"float: right;\" src=\"UoE_Logo.png\" alt=\"UoE\" width=\"300px\"/>"
   ]
  },
  {
   "cell_type": "markdown",
   "metadata": {},
   "source": [
    "### What you have to do to complete the intermittent assessment:\n",
    "**I want you to use SimSphere to explore how changes in surface conditions influence  land-atmosphere interactions.**\n",
    "\n",
    "You will submit a factual report (a **maximum** length of 4 typed sides of A4, 11-point font **including** any diagrams, tables and references) on using this and similar SVAT and PBL models to explore land- atmosphere interactions. There are a number of ways you could tackle this. The assessment has been set up to get you thinking about the linkages and processes operating at the earth-atmosphere interface – and to concentrate your thoughts into a very small amount of text so be concise and do not exceed the 4-page limit!  \n",
    "\n",
    "What I suggest you do is to take **one** aspect of the PBL model you’ve been playing with and explore that issue in more detail – past experience in this class has shown this is the most successful strategy, rather than writing an ‘all-inclusive’ essay. I think you need to use both versions of the jupyter notebook I have created for the class - the simple one allows you to run a single simulation at a time and it also allows you to get at the results more easily (look at the final cell labelled 'Data Printout'). The second notebook (the sensitivity one) will give you an overview of  the results but as presently coded, doesn't tabulate all the  results. You will create a Table of Results with column headings of e.g. leaf, air, and ground temperature, H, LE and mixing layer height. You will then have a number of rows for each simulation run that you make. \n",
    "\n",
    "An example Table for your results\n",
    "\n",
    " Parameter | Net Radiation | Sensible Heat | Latent Heat | Leaf T | etc \n",
    ":----------|:-------------:|:-------------:|:-----------:|:------:|-----:\n",
    " alb = 0.1 |               |               |             |        | \n",
    " alb = 0.2 |               |               |             |        |\n",
    " alb = 0.3 |               |               |             |        |\n",
    " etc       |               |               |             |        |\n",
    "\n",
    "\n",
    "You can then describe and explain your results and put them in the wider context of similar studies. This is what most of the marks will be awarded for – a well-rounded, coherent story. We discussed this approach in the practical sessions, particularly in weeks 2, 5 and 8.  \n",
    "\n",
    "**Students often ask 'at what time should I record the results?'** - and my answer is usually at 1 pm local time in the model. The reason is that this is when the maximum forcing of the lower atmosphere occurs (solar heating is max for example) and for reasons we'll discuss more in the final week of the class, its uusally when Earth observing satellites are overhead and that can be useful if you want to compare fluxes against radiometric indices - which we do if we want to 'do biology from space'. More on that later. There is an exception however and that is for PBL depth which is usually obtained several hours later in the silmulation (as in real life) so I'd record the **maximum** depth of the PBL later in the afternoon.\n",
    "\n",
    "What you need to avoid is making such slight changes in parameter values that you only generate eg leaf or air temperature differences of a fraction of a degree or PBL depth changes by only a few metres. Be bold – make quite substantial changes to the parameters – wipe out vegetation or let it grow rampant! As for what experiments you should attempt, you might like to spend more time thinking about the effect of albedo or surface roughness or soil moisture on microclimate. Changing these parameters is known to work but if you are particularly keen on trying something else e.g. how might pollution (O3) affect PBL height or CO2 fertilisation etc.  then speak to me first (SimSphere doesn’t always handle these exotic changes well!) Choose one and spend some time reading a few papers describing simulations done by others using different PBL models.\n",
    "\n",
    "I suggest you look at the references given in week 5 (the SVAT lecture on Learn) as sources for your essay. Most of what I want you to get out of this exercise is contained within this set. The paper by Sun and Bosilovich (1996), is quite detailed in parts and you should concentrate on the general points they make rather than the detail of their simulation. Your discussion should not be nearly as detailed as theirs – after all, they do this for a living! There are a number of papers by Piers Sellers (ex-graduate of this department) which describe SVAT models and their relevance to ecology. His 1997 paper in Science is particularly useful and will get you started. The paper by Bonan showed how changes to boreal forest influenced the vegetation-albedo effect and initiated some hitherto unexpected results.\n",
    "\n",
    "Bear in mind that I simply want you to get a feel or appreciation for the potential of such models and the questions they can be used to address. Your report will be more of an overview than a detailed experimental report. Higher marks will be given to essays which demonstrate the wider view of the issue and which aren’t afraid to describe inadequacies with the approach. You will also need to consider whether all or any of the possible feedbacks have been taken into account. Higher marks will be awarded to reports with **process-based explanations** - and ones that throw in the odd energy or radiation balance equations.\n",
    "\n",
    "You may want to write a few sentences on how feedbacks probably aren't taken into account in this version of the model; you are only changing one parameter at a time yet it is clear that feedbacks do occur in practice eg when you dry out the top soil layers, you change soil albedo. Can you say something about that and other co-dependendent variables? How would you suggest they be incorporated into the model you have before you?\n",
    "\n",
    "You do not need to alter the code - there is enough code for you to be able to successfully generate your results. This isn't an exercise in getting you to learn python; indeed if running the model is getting beyond you, then ask me to help! Concentrate on writing up what the results mean.\n",
    "\n",
    "Be concise.\n",
    "\n",
    "## References to start with:\n",
    "- iLeaps Bulletins,Nos 6, 7 and 13 available from https://ileaps.org/content/resources or on Learn. \n",
    "- The SimSphere Model Workbook, User Guide and Technical manuals (2005) – available on Learn in the assessment folder and also viewable from the file manager of this notebook (look for the tab on this browser page). \n",
    "\n",
    "Some older refs but still very relevant (in addition to refs already on Learn) \n",
    "- Sun, W.-Y. and Bosilovich, M.G. (1996) Planetary boundary-layer and surface layer sensitivity to land surface parameters. Boundary-Layer Meteorology, 77, 353-378. \n",
    "- Sellers, P. (1991) 'Modelling and observing land-surface-atmosphere interactions on large scales' Surveys in Geophysics, 12, 85-114 \n",
    "- Sellers, P. (1992) Biophysical models of land surface processes. Chapter 14 in: Trenberth, K.E. (ed.) Climate System Modeling. Cambridge Univ. Press, 451-490. \n",
    "- Sellers, P. et al (1997) Modeling the exchanges of energy, water and carbon between continents and the atmosphere. Science, 275, 502-509. \n",
    "- Bonan, G.B., Pollard, D. and Thompson, S.L. (1992) Effects of boreal forest vegetation on global climate. Nature 359:716-718.) \n"
   ]
  },
  {
   "cell_type": "code",
   "execution_count": null,
   "metadata": {},
   "outputs": [],
   "source": []
  }
 ],
 "metadata": {
  "kernelspec": {
   "display_name": "Python 3",
   "language": "python",
   "name": "python3"
  },
  "language_info": {
   "codemirror_mode": {
    "name": "ipython",
    "version": 3
   },
   "file_extension": ".py",
   "mimetype": "text/x-python",
   "name": "python",
   "nbconvert_exporter": "python",
   "pygments_lexer": "ipython3",
   "version": "3.8.6"
  }
 },
 "nbformat": 4,
 "nbformat_minor": 4
}
